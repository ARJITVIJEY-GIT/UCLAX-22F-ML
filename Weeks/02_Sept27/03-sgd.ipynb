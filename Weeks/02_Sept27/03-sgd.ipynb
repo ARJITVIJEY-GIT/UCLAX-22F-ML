{
 "cells": [
  {
   "cell_type": "markdown",
   "id": "04bfa1b8-7c3a-4fdc-bb21-a42ef07591e0",
   "metadata": {},
   "source": [
    "# ML training:  Exact vs Iterative & Regularization"
   ]
  },
  {
   "cell_type": "markdown",
   "id": "5dc3c951-3a28-4187-b7f5-7c92ff1d3886",
   "metadata": {},
   "source": [
    "Acknowledgements go to A. Geron and https://github.com/ageron/handson-ml2/blob/master/04_training_linear_models.ipynb"
   ]
  },
  {
   "cell_type": "code",
   "execution_count": null,
   "id": "c8d00c71-08b2-4eb6-8d92-aa0481ba60a8",
   "metadata": {},
   "outputs": [],
   "source": [
    "import numpy as np\n",
    "import matplotlib.pyplot as plt"
   ]
  },
  {
   "cell_type": "markdown",
   "id": "de08088e-0e3e-42d8-8ca9-b888dac52e9e",
   "metadata": {},
   "source": [
    "### Get the data\n",
    "Here we're manufacturing it."
   ]
  },
  {
   "cell_type": "markdown",
   "id": "904a6333-8acf-48bf-9453-f05a1e36d98e",
   "metadata": {},
   "source": [
    "We're going to keep this simple:\n",
    "\n",
    "$$ y(x) = 4 + 2x$$"
   ]
  },
  {
   "cell_type": "code",
   "execution_count": null,
   "id": "a41d89cb-cece-461b-bfa3-32bde7c6ef6b",
   "metadata": {},
   "outputs": [],
   "source": [
    "x = np.linspace(0, 10, 50)\n",
    "y = 4 + 2*x"
   ]
  },
  {
   "cell_type": "code",
   "execution_count": null,
   "id": "f4baf8d0-ba40-4058-8e13-d23f589d68dc",
   "metadata": {},
   "outputs": [],
   "source": [
    "plt.scatter(x,y);"
   ]
  },
  {
   "cell_type": "markdown",
   "id": "217e084b-e62b-47c2-8af8-d1426d429082",
   "metadata": {},
   "source": [
    "Let's introduce some random noise into our target values."
   ]
  },
  {
   "cell_type": "code",
   "execution_count": null,
   "id": "87be26f7-dce8-440e-941d-a9c898d4da36",
   "metadata": {},
   "outputs": [],
   "source": [
    "# generate 50 points from a normal \n",
    "# distribution that has mean = 0 and std dev = 1.5\n",
    "np.random.seed(42)\n",
    "noise = np.random.normal(0,1.5,50)\n",
    "\n",
    "x = np.linspace(0, 10, 50)\n",
    "\n",
    "# this y is the theoretical value + noise\n",
    "y_with_noise = 4 + 2*x + noise"
   ]
  },
  {
   "cell_type": "code",
   "execution_count": null,
   "id": "6a13fe04-d510-484d-ae23-15d61cbd52f6",
   "metadata": {},
   "outputs": [],
   "source": [
    "# plot our theory curve\n",
    "plt.plot(x,y,'k')\n",
    "\n",
    "# plot our data generated from the theory curve + noise\n",
    "plt.scatter(x,y_with_noise,color='k',marker='o')\n",
    "\n",
    "plt.show()"
   ]
  },
  {
   "cell_type": "markdown",
   "id": "1ea90737-b5a5-4a33-9994-478ce6f1ca58",
   "metadata": {},
   "source": [
    "## Exact solution"
   ]
  },
  {
   "cell_type": "markdown",
   "id": "05c26735-69bd-4eef-8457-8d88b93f35ed",
   "metadata": {},
   "source": [
    "* To get the bias term, we make array elements whose first term is 1 (for the bias) and whose second term is x (for the x-value)\n",
    "* We also reshape and assign y_with_noise back into y"
   ]
  },
  {
   "cell_type": "code",
   "execution_count": null,
   "id": "d038fe35-aab9-4843-815e-77cca8c09af5",
   "metadata": {},
   "outputs": [],
   "source": [
    "X_b = np.c_[np.ones((50, 1)), x] \n",
    "y = y_with_noise.reshape(-1,1)"
   ]
  },
  {
   "cell_type": "markdown",
   "id": "74445032-11ac-4808-894a-cd2243336d7b",
   "metadata": {},
   "source": [
    "**The analytical solution**\n",
    "\n",
    "$\\theta = (X^TX)^{-1}X^Ty$"
   ]
  },
  {
   "cell_type": "code",
   "execution_count": null,
   "id": "cbc3ef52-1389-4646-8687-f97e234fe3e4",
   "metadata": {},
   "outputs": [],
   "source": [
    "theta_best = np.linalg.inv(X_b.T.dot(X_b)).dot(X_b.T).dot(y)"
   ]
  },
  {
   "cell_type": "code",
   "execution_count": null,
   "id": "431954fe-9366-4841-8b31-77fb4e5e46c6",
   "metadata": {},
   "outputs": [],
   "source": [
    "theta_best"
   ]
  },
  {
   "cell_type": "markdown",
   "id": "b9b47d56-aaae-40cc-a531-c067415f6c47",
   "metadata": {},
   "source": [
    "Make a two-element array at the min and max of the x range."
   ]
  },
  {
   "cell_type": "code",
   "execution_count": null,
   "id": "b15746a2-561c-458a-856c-51a9b9891662",
   "metadata": {},
   "outputs": [],
   "source": [
    "X_new = np.array([[0], [10]])\n",
    "X_new_b = np.c_[np.ones((2, 1)), X_new]"
   ]
  },
  {
   "cell_type": "code",
   "execution_count": null,
   "id": "287fe80b-b54d-47de-9668-05fffb76f6df",
   "metadata": {},
   "outputs": [],
   "source": [
    "X_new_b"
   ]
  },
  {
   "cell_type": "code",
   "execution_count": null,
   "id": "fe6bd3fb-0af0-458c-a6e7-c40b15394c23",
   "metadata": {},
   "outputs": [],
   "source": [
    "y_predict = X_new_b.dot(theta_best)\n",
    "y_predict"
   ]
  },
  {
   "cell_type": "code",
   "execution_count": null,
   "id": "4f5a0f08-d662-4ea3-b2d7-d4e460af2f46",
   "metadata": {},
   "outputs": [],
   "source": [
    "plt.plot(X_new, y_predict, \"r-\")\n",
    "plt.plot(x, y, \"b.\")\n",
    "plt.show()"
   ]
  },
  {
   "cell_type": "markdown",
   "id": "34fba16a-cf59-4e96-9e29-a61cf1b717cc",
   "metadata": {},
   "source": [
    "## Doing this with SGD"
   ]
  },
  {
   "cell_type": "code",
   "execution_count": null,
   "id": "d75849e9-f5a5-4b61-ac92-7df65a5f5ae4",
   "metadata": {},
   "outputs": [],
   "source": [
    "np.random.randn(2,1)"
   ]
  },
  {
   "cell_type": "code",
   "execution_count": null,
   "id": "111f2c74-5ce6-4e9a-9d8e-1a0df7b970d3",
   "metadata": {},
   "outputs": [],
   "source": [
    "eta = 0.01  # learning rate\n",
    "n_iterations = 1000\n",
    "m = 50\n",
    "\n",
    "theta = np.random.randn(2,1)  # random initialization\n",
    "\n",
    "for iteration in range(n_iterations):\n",
    "    gradients = 2/m * X_b.T.dot(X_b.dot(theta) - y)\n",
    "    theta = theta - eta * gradients"
   ]
  },
  {
   "cell_type": "code",
   "execution_count": null,
   "id": "1e3efb82-2ceb-47c3-a343-d10b9ca89dc6",
   "metadata": {},
   "outputs": [],
   "source": [
    "theta"
   ]
  },
  {
   "cell_type": "code",
   "execution_count": null,
   "id": "01a314c7-763f-42d0-8931-642799070962",
   "metadata": {},
   "outputs": [],
   "source": [
    "for i in [0.001, 0.01, 0.05]:\n",
    "    eta = i  # learning rate\n",
    "    n_iterations = 1000\n",
    "    m = 50\n",
    "\n",
    "    theta = np.random.randn(2,1)  # random initialization\n",
    "\n",
    "    for iteration in range(n_iterations):\n",
    "        gradients = 2/m * X_b.T.dot(X_b.dot(theta) - y)\n",
    "        theta = theta - eta * gradients\n",
    "        if iteration < 70:\n",
    "            X_new = np.array([[0], [10]])\n",
    "            X_new_b = np.c_[np.ones((2, 1)), X_new]  # add x0 = 1 to each instance\n",
    "            y_predict = X_new_b.T.dot(theta)\n",
    "            plt.plot(X_new, y_predict, \"r-\")\n",
    "            plt.plot(x, y, \"b.\")\n",
    "    plt.show()"
   ]
  },
  {
   "cell_type": "code",
   "execution_count": null,
   "id": "88e5ff21-c1df-4c67-9502-05206adae99a",
   "metadata": {},
   "outputs": [],
   "source": [
    "theta_path_sgd = []\n",
    "m = len(X_b)\n",
    "np.random.seed(42)"
   ]
  },
  {
   "cell_type": "code",
   "execution_count": null,
   "id": "21a81e27-69f3-47a3-a6a4-9b71d98817e6",
   "metadata": {},
   "outputs": [],
   "source": [
    "n_epochs = 100\n",
    "t0, t1 = 5, 50  # learning schedule hyperparameters\n",
    "\n",
    "def learning_schedule(t):\n",
    "    return 0.1 * t0 / (t + t1)\n",
    "\n",
    "theta = np.random.randn(2,1)  # random initialization\n",
    "\n",
    "for epoch in range(n_epochs):\n",
    "    for i in range(m):\n",
    "        if epoch == 0 and i < 20:                    # not shown in the book\n",
    "            y_predict = X_new_b.T.dot(theta)           # not shown\n",
    "            style = \"b-\" if i > 1 else \"r--\"         # not shown\n",
    "            plt.plot(X_new, y_predict, style)        # not shown\n",
    "        random_index = np.random.randint(m)\n",
    "        xi = X_b[random_index:random_index+1]\n",
    "        yi = y[random_index:random_index+1]\n",
    "        gradients = 2 * xi.T.dot(xi.dot(theta) - yi)\n",
    "        eta = learning_schedule(epoch * m + i)\n",
    "        theta = theta - eta * gradients\n",
    "        theta_path_sgd.append(theta)                 # not shown\n",
    "\n",
    "plt.plot(x, y, \"b.\")                                 # not shown\n",
    "plt.show()                                           # not shown"
   ]
  },
  {
   "cell_type": "code",
   "execution_count": null,
   "id": "d2edd766-fd4c-4c46-843f-510b0d7ee3e0",
   "metadata": {},
   "outputs": [],
   "source": [
    "theta"
   ]
  },
  {
   "cell_type": "markdown",
   "id": "332f6505-f2f1-4ab9-923a-6b41dc02321d",
   "metadata": {},
   "source": [
    "## The Scikit-Learn way for SGD"
   ]
  },
  {
   "cell_type": "code",
   "execution_count": null,
   "id": "7c1f7d24-55a1-445d-841f-6f2f3de94202",
   "metadata": {},
   "outputs": [],
   "source": [
    "from sklearn.linear_model import SGDRegressor\n",
    "\n",
    "sgd_reg = SGDRegressor(max_iter=1000, tol=1e-3, penalty=None, eta0=0.1, random_state=42)\n",
    "sgd_reg.fit(x.reshape(-1,1), y.ravel())"
   ]
  },
  {
   "cell_type": "code",
   "execution_count": null,
   "id": "10fc37ae-94ea-49bf-b7c2-2e00f335e143",
   "metadata": {},
   "outputs": [],
   "source": [
    "sgd_reg.intercept_, sgd_reg.coef_"
   ]
  },
  {
   "cell_type": "markdown",
   "id": "14e77e3c-0726-404a-951d-d222bd7f98ca",
   "metadata": {},
   "source": [
    "## Regularization"
   ]
  },
  {
   "cell_type": "markdown",
   "id": "07f2f3c0-7b5e-45c0-84a8-3d7f27a30104",
   "metadata": {},
   "source": [
    "### Ridge"
   ]
  },
  {
   "cell_type": "code",
   "execution_count": null,
   "id": "574d5abc-331d-4fa2-94e2-29a1910ed796",
   "metadata": {},
   "outputs": [],
   "source": [
    "x = x.reshape(-1,1)\n",
    "y = y.ravel()"
   ]
  },
  {
   "cell_type": "code",
   "execution_count": null,
   "id": "916ddfab-636b-430a-8337-f76ab88b5d6a",
   "metadata": {},
   "outputs": [],
   "source": [
    "from sklearn.linear_model import Ridge"
   ]
  },
  {
   "cell_type": "code",
   "execution_count": null,
   "id": "0c9e3e21-985a-4ccc-9e3f-e87c3e8f5a54",
   "metadata": {},
   "outputs": [],
   "source": [
    "ridge_reg = Ridge(alpha=1, solver=\"cholesky\", random_state=42)\n",
    "ridge_reg.fit(x, y)\n",
    "ridge_reg.intercept_, ridge_reg.coef_"
   ]
  },
  {
   "cell_type": "code",
   "execution_count": null,
   "id": "69099b57-8dbc-4462-8eee-3d6ca2e83a56",
   "metadata": {},
   "outputs": [],
   "source": [
    "plt.plot(x,y,'ko')\n",
    "\n",
    "for i in [0,10,20]:\n",
    "    ridge_reg = Ridge(alpha=i, solver=\"cholesky\", random_state=42)\n",
    "    ridge_reg.fit(x, y)\n",
    "    X_new = np.array([[0], [10]])\n",
    "    y_predict = ridge_reg.predict(X_new)\n",
    "    plt.plot(X_new, y_predict, \"r-\")\n",
    "    \n",
    "plt.plot()"
   ]
  },
  {
   "cell_type": "code",
   "execution_count": null,
   "id": "3de95536-4f45-40d9-8580-5ccf9647d56c",
   "metadata": {},
   "outputs": [],
   "source": [
    "plt.plot(x,y,'ko')\n",
    "\n",
    "for i in [0,100,1000]:\n",
    "    ridge_reg = Ridge(alpha=i, solver=\"cholesky\", random_state=42)\n",
    "    ridge_reg.fit(x, y)\n",
    "    X_new = np.array([[0], [10]])\n",
    "    y_predict = ridge_reg.predict(X_new)\n",
    "    plt.plot(X_new, y_predict, \"r-\")\n",
    "    \n",
    "plt.plot()"
   ]
  },
  {
   "cell_type": "markdown",
   "id": "24fbd161-c277-4f5f-9281-3c369b232aae",
   "metadata": {},
   "source": [
    "## Lasso"
   ]
  },
  {
   "cell_type": "code",
   "execution_count": null,
   "id": "fc21040c-8880-41a1-8389-df05e5288fb1",
   "metadata": {},
   "outputs": [],
   "source": [
    "from sklearn.linear_model import Lasso"
   ]
  },
  {
   "cell_type": "code",
   "execution_count": null,
   "id": "4daf13cc-dc0f-4bc0-99b9-4a8ce0b03be2",
   "metadata": {},
   "outputs": [],
   "source": [
    "plt.plot(x,y,'ko')\n",
    "\n",
    "for i in [1,10,20]:\n",
    "    lasso_reg = Lasso(alpha=i, random_state=42)\n",
    "    lasso_reg.fit(x, y)\n",
    "    X_new = np.array([[0], [10]])\n",
    "    y_predict = lasso_reg.predict(X_new)\n",
    "    plt.plot(X_new, y_predict, \"r-\")\n",
    "    \n",
    "plt.plot()"
   ]
  },
  {
   "cell_type": "markdown",
   "id": "938627b8-a196-4a55-b763-7586512443e2",
   "metadata": {},
   "source": [
    "## ElasticNet"
   ]
  },
  {
   "cell_type": "code",
   "execution_count": null,
   "id": "b12bc855-7389-4217-b400-31885c75ee9a",
   "metadata": {},
   "outputs": [],
   "source": [
    "from sklearn.linear_model import ElasticNet"
   ]
  },
  {
   "cell_type": "code",
   "execution_count": null,
   "id": "298930f0-c41d-4016-82d9-04abd2133f83",
   "metadata": {},
   "outputs": [],
   "source": [
    "plt.plot(x,y,'ko')\n",
    "\n",
    "for i in [1,10,20]:\n",
    "    elasticnet_reg = ElasticNet(alpha=i, l1_ratio=0.5, random_state=42)\n",
    "    elasticnet_reg.fit(x, y)\n",
    "    X_new = np.array([[0], [10]])\n",
    "    y_predict = elasticnet_reg.predict(X_new)\n",
    "    plt.plot(X_new, y_predict, \"r-\")\n",
    "    \n",
    "plt.plot()"
   ]
  }
 ],
 "metadata": {
  "kernelspec": {
   "display_name": "Python 3 (ipykernel)",
   "language": "python",
   "name": "python3"
  },
  "language_info": {
   "codemirror_mode": {
    "name": "ipython",
    "version": 3
   },
   "file_extension": ".py",
   "mimetype": "text/x-python",
   "name": "python",
   "nbconvert_exporter": "python",
   "pygments_lexer": "ipython3",
   "version": "3.10.6"
  }
 },
 "nbformat": 4,
 "nbformat_minor": 5
}
