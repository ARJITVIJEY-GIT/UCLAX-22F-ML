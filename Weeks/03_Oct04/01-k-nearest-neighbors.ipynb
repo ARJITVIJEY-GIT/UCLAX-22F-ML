{
 "cells": [
  {
   "cell_type": "markdown",
   "id": "1d5c75b1-6b15-49c2-869b-6af409ef317e",
   "metadata": {},
   "source": [
    "# Classification based on k-nearest neighbors"
   ]
  },
  {
   "cell_type": "markdown",
   "id": "5c87bb76-8931-4c36-90ec-2c5c852da999",
   "metadata": {},
   "source": [
    "## The data"
   ]
  },
  {
   "cell_type": "code",
   "execution_count": null,
   "id": "a0e406cc-3a8d-4f8f-95f3-f4c4997cb5a3",
   "metadata": {},
   "outputs": [],
   "source": [
    "import numpy as np\n",
    "import matplotlib.pyplot as plt\n",
    "import pandas as pd"
   ]
  },
  {
   "cell_type": "code",
   "execution_count": null,
   "id": "7bf710f3-1593-4a57-8bcd-f7ff80d1d783",
   "metadata": {},
   "outputs": [],
   "source": [
    "data = pd.read_csv('gdp-vs-lifesatisfaction-classes.csv')"
   ]
  },
  {
   "cell_type": "code",
   "execution_count": null,
   "id": "6486d24c-b49f-4040-bc57-b8e113bf6bc7",
   "metadata": {},
   "outputs": [],
   "source": [
    "data"
   ]
  },
  {
   "cell_type": "code",
   "execution_count": null,
   "id": "b0dd8b06-3f9e-4829-90b8-506a7fa64943",
   "metadata": {},
   "outputs": [],
   "source": [
    "data.plot.scatter(x='GDP per capita', y='Life satisfied')\n",
    "# or equally well\n",
    "# data.plot(x='GDP per capita', y='Life satisfied', kind='scatter')"
   ]
  },
  {
   "cell_type": "markdown",
   "id": "70f3c05c-fe13-4355-ba97-5811e7ad4745",
   "metadata": {},
   "source": [
    "## Scikit-learn"
   ]
  },
  {
   "cell_type": "markdown",
   "id": "8e31e09a-db40-4db0-bdfe-27ee97f89896",
   "metadata": {},
   "source": [
    "<img src=\"images/scikit-learn.png\" width=500>\n",
    "\n",
    "https://scikit-learn.org/stable/index.html\n",
    "<br>\n",
    "https://scikit-learn.org/stable/modules/generated/sklearn.neighbors.KNeighborsClassifier.html"
   ]
  },
  {
   "cell_type": "markdown",
   "id": "613a8045-e83b-4bda-bfe0-6aa0bab7b85e",
   "metadata": {},
   "source": [
    "## k-nearest neighbors (for classification now! not regression)"
   ]
  },
  {
   "cell_type": "code",
   "execution_count": null,
   "id": "0bce4549-f67a-41d2-a7b8-6f2b92df0da7",
   "metadata": {},
   "outputs": [],
   "source": [
    "import sklearn.neighbors"
   ]
  },
  {
   "cell_type": "code",
   "execution_count": null,
   "id": "34fb5ae2-a4b4-4592-a193-7a2451380113",
   "metadata": {},
   "outputs": [],
   "source": [
    "# Before for regression:\n",
    "# model = sklearn.neighbors.KNeighborsRegressor(n_neighbors=1)\n",
    "\n",
    "# Classifier\n",
    "model = sklearn.neighbors.KNeighborsClassifier(n_neighbors=3)"
   ]
  },
  {
   "cell_type": "code",
   "execution_count": null,
   "id": "4b973c2f-a8a2-4612-8b59-7fdd2fdf3d3d",
   "metadata": {},
   "outputs": [],
   "source": [
    "# Another technical note like before\n",
    "# sklearn will expect x to be like a 2D array \n",
    "# which in Pandas means like a dataframe rather than a series\n",
    "# We make a dataframe by indexing the dataframe with a list containing our column names\n",
    "\n",
    "x = data[['GDP per capita']]\n",
    "y = data['Life satisfied']"
   ]
  },
  {
   "cell_type": "code",
   "execution_count": null,
   "id": "fe539084-5e83-4a8d-83d3-15194f850a1f",
   "metadata": {},
   "outputs": [],
   "source": [
    "# Train the model\n",
    "model.fit(x,y)"
   ]
  },
  {
   "cell_type": "code",
   "execution_count": null,
   "id": "56e6d485-8c85-48b5-9f2a-400013efb516",
   "metadata": {},
   "outputs": [],
   "source": [
    "# Make a prediction\n",
    "x_test = [[25000]]\n",
    "model.predict(x_test)"
   ]
  },
  {
   "cell_type": "code",
   "execution_count": null,
   "id": "b3b9e5e4-408f-48ae-b8d1-e23e4262812b",
   "metadata": {},
   "outputs": [],
   "source": [
    "# Visualize what the predictions are for this model\n",
    "\n",
    "data.plot.scatter(x='GDP per capita', y='Life satisfied')\n",
    "\n",
    "x_new = np.linspace(8000,58000,100000)\n",
    "x_new = x_new.reshape(-1,1)\n",
    "y_pred = model.predict(x_new)\n",
    "plt.plot(x_new, y_pred)\n",
    "\n",
    "plt.show()"
   ]
  },
  {
   "cell_type": "markdown",
   "id": "40ed7c67-2879-4f6a-8653-bd49f2630e7e",
   "metadata": {},
   "source": [
    "## Ascertaining the \"goodness\" of the model fit"
   ]
  },
  {
   "cell_type": "code",
   "execution_count": null,
   "id": "70820d3a-090f-4e58-8c2d-19bb131f251c",
   "metadata": {},
   "outputs": [],
   "source": [
    "model.score(x, y)"
   ]
  },
  {
   "cell_type": "code",
   "execution_count": null,
   "id": "ad390dc3-2f81-4cc9-bd48-dfdd2d92b6dc",
   "metadata": {},
   "outputs": [],
   "source": [
    "# If the model correctly classifies i points and misclassifies j points out of k total\n",
    "# the score should be i/k\n",
    "28/29"
   ]
  },
  {
   "cell_type": "markdown",
   "id": "1f7b7df5-bb5d-439b-9763-7b28636ac6cd",
   "metadata": {},
   "source": [
    "What is the above termed?\n",
    "1. accuracy\n",
    "2. precision\n",
    "3. recall\n",
    "4. actually, none of these"
   ]
  },
  {
   "cell_type": "code",
   "execution_count": null,
   "id": "5b976bd3-0074-4f4d-b297-c34f0e3462af",
   "metadata": {},
   "outputs": [],
   "source": [
    "# Note that when calculating the precision and recall here, if your classes are not 0/1\n",
    "# you will need to specify what class is positive vs negative (the \"pos_label\")\n",
    "\n",
    "print(f\"Accuracy: {sklearn.metrics.accuracy_score(y, model.predict(x)):.2%}\")\n",
    "print(f\"Precision: {sklearn.metrics.precision_score(y, model.predict(x), pos_label='Satisfied'):.2%}\")\n",
    "print(f\"Recall: {sklearn.metrics.recall_score(y, model.predict(x), pos_label='Satisfied'):.2%}\")"
   ]
  },
  {
   "cell_type": "code",
   "execution_count": null,
   "id": "95bf1ecf-15c4-4c62-b545-443a7c9927af",
   "metadata": {},
   "outputs": [],
   "source": [
    "from sklearn.metrics import confusion_matrix"
   ]
  },
  {
   "cell_type": "markdown",
   "id": "bf32586d-edeb-4d52-8f8d-a782009097f6",
   "metadata": {},
   "source": [
    "You can get more information on the accuracy of the model with a confusion matrix. \n",
    "\n",
    "In the case of binary classification, the confusion matrix shows true negatives, true positives, false positives, and false positives."
   ]
  },
  {
   "cell_type": "code",
   "execution_count": null,
   "id": "f0eb2e7f-1d35-4559-906a-ca4ad8172e2c",
   "metadata": {},
   "outputs": [],
   "source": [
    "confusion_matrix(y, model.predict(x))"
   ]
  },
  {
   "cell_type": "markdown",
   "id": "77c76322-138e-4e39-8451-bab9be800f81",
   "metadata": {},
   "source": [
    "## If we take \"Not Satisfied\" as our negative, which of the above are the \n",
    "* true negatives? -- \n",
    "* true positives? -- \n",
    "* false negatives? -- \n",
    "* false positives? -- "
   ]
  },
  {
   "cell_type": "code",
   "execution_count": null,
   "id": "44820c16-aca5-4493-9f8d-7647cb15793b",
   "metadata": {},
   "outputs": [],
   "source": [
    "confmat = confusion_matrix(y, model.predict(x))\n",
    "\n",
    "fig, ax = plt.subplots(figsize=(5, 5))\n",
    "ax.imshow(confmat)\n",
    "\n",
    "# the below just sets the axis labels, tick marks, and text inside the boxes\n",
    "ax.xaxis.set(ticks=(0, 1), ticklabels=('Predicted 0s', 'Predicted 1s'))\n",
    "ax.yaxis.set(ticks=(0, 1), ticklabels=('Actual 0s', 'Actual 1s'))\n",
    "for i in range(2):\n",
    "    for j in range(2):\n",
    "        ax.text(j, i, confmat[i,j], ha='center', va='center', color='red')\n",
    "\n",
    "plt.show()"
   ]
  },
  {
   "cell_type": "code",
   "execution_count": null,
   "id": "10ece46b-6b14-48ae-9879-3e56f3b7e655",
   "metadata": {},
   "outputs": [],
   "source": [
    "from sklearn.metrics import classification_report"
   ]
  },
  {
   "cell_type": "code",
   "execution_count": null,
   "id": "730cd0a0-0ca1-41ff-ab55-1f4bec15e584",
   "metadata": {},
   "outputs": [],
   "source": [
    "print(classification_report(y, model.predict(x)))"
   ]
  },
  {
   "cell_type": "markdown",
   "id": "2727d739-46a5-4688-930f-cbceac638380",
   "metadata": {},
   "source": [
    "## Exercises\n",
    "\n",
    "As an exercise, repeat the above, but include elements from last week:\n",
    "* a test/train split\n",
    "* cross-validation to find the optimum number of neighbors\n",
    "\n",
    "Do this using the Wisconsin breast cancer dataset (https://scikit-learn.org/stable/modules/generated/sklearn.datasets.load_breast_cancer.html)"
   ]
  },
  {
   "cell_type": "markdown",
   "id": "d3459b88-9d89-4ba4-9f1f-feacf8b1835b",
   "metadata": {},
   "source": [
    "### I will start you off:\n",
    "\n",
    "Execute the following two cells to import the data:"
   ]
  },
  {
   "cell_type": "code",
   "execution_count": null,
   "id": "e8010787-0291-452f-a699-997ce2425ad2",
   "metadata": {},
   "outputs": [],
   "source": [
    "import sklearn.datasets\n",
    "import sklearn.model_selection"
   ]
  },
  {
   "cell_type": "code",
   "execution_count": null,
   "id": "8cfda027-b843-453e-8c41-9e0491b3f251",
   "metadata": {},
   "outputs": [],
   "source": [
    "x,y = sklearn.datasets.load_breast_cancer(return_X_y=True, as_frame=True)"
   ]
  },
  {
   "cell_type": "markdown",
   "id": "30e3c168-3577-4e24-9d8d-2f786f1cd4ed",
   "metadata": {},
   "source": [
    "Execute the following two cells to see what's in `x` and `y`"
   ]
  },
  {
   "cell_type": "code",
   "execution_count": null,
   "id": "223029a0-3d06-4eae-8a08-e74cd2686109",
   "metadata": {},
   "outputs": [],
   "source": [
    "x"
   ]
  },
  {
   "cell_type": "code",
   "execution_count": null,
   "id": "2e54b2fd-2d40-4840-86ef-bd3a3e885441",
   "metadata": {},
   "outputs": [],
   "source": [
    "y"
   ]
  },
  {
   "cell_type": "markdown",
   "id": "1dfe77b2-07f9-4128-b2bc-4e9b2c4fa337",
   "metadata": {},
   "source": [
    "Make a dataframe of just the `mean radius` column of x and assign to a new variable."
   ]
  },
  {
   "cell_type": "code",
   "execution_count": null,
   "id": "7d3adf18-2d60-4f46-a31f-7cf97b7b12ae",
   "metadata": {},
   "outputs": [],
   "source": []
  },
  {
   "cell_type": "markdown",
   "id": "9142cbdf-aa86-42f2-9238-dc5059cdbf5e",
   "metadata": {},
   "source": [
    "Make a scatter plot of y vs mean radius."
   ]
  },
  {
   "cell_type": "code",
   "execution_count": null,
   "id": "9f9ffd69-6cd1-4956-9fa8-85844f2f40e3",
   "metadata": {},
   "outputs": [],
   "source": []
  },
  {
   "cell_type": "markdown",
   "id": "ee23e5c4-1444-40dc-96f2-825bcbf524be",
   "metadata": {},
   "source": [
    "Split your radius and y data into training and test sets."
   ]
  },
  {
   "cell_type": "code",
   "execution_count": null,
   "id": "6635fd6c-02af-4614-85b2-066519e469f2",
   "metadata": {},
   "outputs": [],
   "source": []
  },
  {
   "cell_type": "markdown",
   "id": "9544bfa3-6b95-45c2-967b-b0fe599c6ab1",
   "metadata": {},
   "source": [
    "Initialize your k-nearest neighbors classifier and start with n_neighbors = 3."
   ]
  },
  {
   "cell_type": "code",
   "execution_count": null,
   "id": "b0a66cd2-b62a-46dd-b3f2-bd2b1a8c99c3",
   "metadata": {},
   "outputs": [],
   "source": []
  },
  {
   "cell_type": "markdown",
   "id": "189800fe-b909-401e-853e-b56ad3590647",
   "metadata": {},
   "source": [
    "Train the model."
   ]
  },
  {
   "cell_type": "code",
   "execution_count": null,
   "id": "3a2e171d-fb0d-4058-a897-db90f6ee5144",
   "metadata": {},
   "outputs": [],
   "source": []
  },
  {
   "cell_type": "markdown",
   "id": "6ca2d5f5-008e-4be4-b682-1bd3a6b178f5",
   "metadata": {},
   "source": [
    "Look at the plot above, choose a value for radius, and execute a command that shows which class your model predicts for that value.\n",
    "* if you get a warning about feature names, ignore it."
   ]
  },
  {
   "cell_type": "code",
   "execution_count": null,
   "id": "ef664ae6-147e-4cec-9866-cecfd1e978ee",
   "metadata": {},
   "outputs": [],
   "source": []
  },
  {
   "cell_type": "markdown",
   "id": "36137054-1389-4959-8160-cefbec4d6c92",
   "metadata": {},
   "source": [
    "Remake the plot from above, and on top of it, plot a line curve showing the predictions of your model over the plotted horizontal range.\n",
    "* you may find the following useful:\n",
    "  * `np.linspace(a,b,c)` will make a numpy array with `c` elements starting at the value `a` and going to `b`\n",
    "  * remember that sklearn's predict method must have a 2D-like array input, so if you use the above, you may need to recast the array with `.reshape(-1,1)`"
   ]
  },
  {
   "cell_type": "code",
   "execution_count": null,
   "id": "ca3164cc-3a43-4942-9df2-859c47089f15",
   "metadata": {},
   "outputs": [],
   "source": []
  },
  {
   "cell_type": "markdown",
   "id": "a715f2aa-6312-4632-a93e-fa78a2ead277",
   "metadata": {},
   "source": [
    "The following will allow you to get the cross validation, but fill in the places marked with \"???\""
   ]
  },
  {
   "cell_type": "code",
   "execution_count": null,
   "id": "0d91a830-5e1d-45b6-86f3-aa4e39d5c38b",
   "metadata": {},
   "outputs": [],
   "source": [
    "from sklearn.model_selection import cross_val_score"
   ]
  },
  {
   "cell_type": "code",
   "execution_count": null,
   "id": "0a9cc02a-0e29-4795-add9-e54a5b21c412",
   "metadata": {},
   "outputs": [],
   "source": [
    "k_range = range(1, ???)\n",
    "k_scores = []\n",
    "for k in k_range:\n",
    "    knn = sklearn.neighbors.KNeighborsClassifier(n_neighbors=???)\n",
    "    acc = cross_val_score(???,\n",
    "                           ???,\n",
    "                           ???, \n",
    "                           cv=???, \n",
    "                           scoring='accuracy')\n",
    "    k_scores.append(acc.mean())\n",
    "plt.scatter(k_range, k_scores)\n",
    "plt.xlabel('Value of K for KNN')\n",
    "plt.ylabel('Cross-Validated MSE')\n",
    "plt.show()\n",
    "print('Max k = ',np.argmax(???))"
   ]
  },
  {
   "cell_type": "markdown",
   "id": "546c67e7-0aa4-43a6-b0cc-492a32d40bb2",
   "metadata": {},
   "source": [
    "Initialize another k-nearest neighbors classifier with the best n_neighbors."
   ]
  },
  {
   "cell_type": "code",
   "execution_count": null,
   "id": "d40ceb68-8e42-4f11-a78b-6d6d0070c06d",
   "metadata": {},
   "outputs": [],
   "source": []
  },
  {
   "cell_type": "markdown",
   "id": "7212b630-194b-48de-be0b-e804aaee422d",
   "metadata": {},
   "source": [
    "Train the model."
   ]
  },
  {
   "cell_type": "code",
   "execution_count": null,
   "id": "8da21e01-942c-4f3a-8e19-935fcb340e9d",
   "metadata": {},
   "outputs": [],
   "source": []
  },
  {
   "cell_type": "markdown",
   "id": "218eece8-304e-4a45-8a47-31384933d5e9",
   "metadata": {},
   "source": [
    "Remake the plot that has the training points and the curve of your new trained model's predictions."
   ]
  },
  {
   "cell_type": "code",
   "execution_count": null,
   "id": "5c9aa552-9e7e-4785-9162-63efebefea2c",
   "metadata": {},
   "outputs": [],
   "source": []
  },
  {
   "cell_type": "markdown",
   "id": "51fed4f9-47b4-495d-833b-23adf370c98e",
   "metadata": {},
   "source": [
    "Print out the accuracy, precision, and recall assessed via the test set."
   ]
  },
  {
   "cell_type": "code",
   "execution_count": null,
   "id": "58554530-af31-41e1-8341-e33da4b6a108",
   "metadata": {},
   "outputs": [],
   "source": []
  },
  {
   "cell_type": "markdown",
   "id": "491dc2bf-be13-40c1-b421-21d6e220c634",
   "metadata": {},
   "source": [
    "Print the confusion matrix."
   ]
  },
  {
   "cell_type": "code",
   "execution_count": null,
   "id": "4c542980-0deb-459b-8ca3-721837c04d55",
   "metadata": {},
   "outputs": [],
   "source": []
  },
  {
   "cell_type": "markdown",
   "id": "42ae0fe6-ddd3-4ed4-9045-d2b55387ea37",
   "metadata": {},
   "source": [
    "Print the classification report."
   ]
  },
  {
   "cell_type": "code",
   "execution_count": null,
   "id": "91cdc8e4-c1d7-4254-98d8-238a9f5ea173",
   "metadata": {},
   "outputs": [],
   "source": []
  }
 ],
 "metadata": {
  "kernelspec": {
   "display_name": "Python 3 (ipykernel)",
   "language": "python",
   "name": "python3"
  },
  "language_info": {
   "codemirror_mode": {
    "name": "ipython",
    "version": 3
   },
   "file_extension": ".py",
   "mimetype": "text/x-python",
   "name": "python",
   "nbconvert_exporter": "python",
   "pygments_lexer": "ipython3",
   "version": "3.10.6"
  }
 },
 "nbformat": 4,
 "nbformat_minor": 5
}
