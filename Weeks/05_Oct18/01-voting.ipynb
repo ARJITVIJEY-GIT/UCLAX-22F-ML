{
 "cells": [
  {
   "cell_type": "markdown",
   "id": "f814db81-fc6f-4c1c-a2c5-beb0beb17bff",
   "metadata": {},
   "source": [
    "# Combining the efforts of ML models"
   ]
  },
  {
   "cell_type": "code",
   "execution_count": null,
   "id": "026e801b-a442-4cb8-9ef7-0ba0513fbdb1",
   "metadata": {},
   "outputs": [],
   "source": [
    "import numpy as np\n",
    "import pandas as pd\n",
    "import seaborn as sns\n",
    "import matplotlib.pyplot as plt\n",
    "from sklearn.datasets import make_blobs\n",
    "from sklearn.linear_model import LogisticRegression\n",
    "from sklearn.tree import DecisionTreeClassifier\n",
    "import sklearn.tree\n",
    "from sklearn.inspection import DecisionBoundaryDisplay\n",
    "from sklearn.model_selection import train_test_split\n",
    "#from dtreeviz.trees import dtreeviz"
   ]
  },
  {
   "cell_type": "markdown",
   "id": "f1653185-52e3-45af-b114-78bb5594436a",
   "metadata": {},
   "source": [
    "Using make_blobs to generate some data for classification:\n",
    "https://docs.w3cub.com/scikit_learn/modules/generated/sklearn.datasets.make_blobs"
   ]
  },
  {
   "cell_type": "code",
   "execution_count": null,
   "id": "334592a1-fc5d-4cfa-a2d3-5ee43792414a",
   "metadata": {},
   "outputs": [],
   "source": [
    "x, y = make_blobs(n_samples=300,\n",
    "                  random_state=0, \n",
    "                  cluster_std=2)"
   ]
  },
  {
   "cell_type": "code",
   "execution_count": null,
   "id": "03a098a5-858f-4db1-94ef-aa5cf39e745f",
   "metadata": {},
   "outputs": [],
   "source": [
    "df = pd.DataFrame({'x0':x[:,0], \n",
    "                   'x1':x[:,1], \n",
    "                   'y':y})"
   ]
  },
  {
   "cell_type": "code",
   "execution_count": null,
   "id": "ebdedb5a-035a-4512-8255-b33367b84717",
   "metadata": {},
   "outputs": [],
   "source": [
    "sns.scatterplot(data=df,\n",
    "                x='x0',\n",
    "                y='x1',\n",
    "                hue='y',\n",
    "                palette=['red','green','blue'])"
   ]
  },
  {
   "cell_type": "markdown",
   "id": "6af05fa1-33bc-44bb-95e4-8feb0457ce61",
   "metadata": {},
   "source": [
    "## Train/test split"
   ]
  },
  {
   "cell_type": "code",
   "execution_count": null,
   "id": "2843d85f-aab0-437f-92aa-cc029b0c48cb",
   "metadata": {},
   "outputs": [],
   "source": [
    "x_train, x_test, y_train, y_test = train_test_split(df[['x0','x1']], \n",
    "                                                    df['y'], \n",
    "                                                    random_state=0)"
   ]
  },
  {
   "cell_type": "markdown",
   "id": "ddf3f4d1-8e49-4767-9beb-98161bee50ab",
   "metadata": {},
   "source": [
    "## First, Logistic Regression"
   ]
  },
  {
   "cell_type": "code",
   "execution_count": null,
   "id": "6dd70742-e447-4fec-bced-1bda237b5966",
   "metadata": {},
   "outputs": [],
   "source": [
    "logreg_clf = LogisticRegression()\n",
    "logreg_clf.fit(x_train, y_train)"
   ]
  },
  {
   "cell_type": "code",
   "execution_count": null,
   "id": "3d934d71-df40-4616-806e-5fec8571d069",
   "metadata": {},
   "outputs": [],
   "source": [
    "DecisionBoundaryDisplay.from_estimator(logreg_clf, \n",
    "                                       df[['x0','x1']], \n",
    "                                       response_method=\"predict\",\n",
    "                                       cmap=\"RdBu\", \n",
    "                                       alpha=0.5\n",
    ")\n",
    "\n",
    "sns.scatterplot(data=df,\n",
    "                x='x0', \n",
    "                y='x1',\n",
    "                hue='y',\n",
    "                palette=['red','green','blue'])\n",
    "\n",
    "plt.legend(bbox_to_anchor=(1.05, 1), loc='upper left')"
   ]
  },
  {
   "cell_type": "code",
   "execution_count": null,
   "id": "8f5d55d0-197f-4173-b73a-0d44e33aa291",
   "metadata": {},
   "outputs": [],
   "source": [
    "test_score = logreg_clf.score(x_test, y_test)\n",
    "print(f\"Accuracy of Logistic Regression: {test_score:.2f}\")"
   ]
  },
  {
   "cell_type": "markdown",
   "id": "0ba8b184-595a-46bf-8730-31d15041be9c",
   "metadata": {},
   "source": [
    "## Decision Tree"
   ]
  },
  {
   "cell_type": "code",
   "execution_count": null,
   "id": "016aee27-20f0-41ff-bf74-47be7be4c2f3",
   "metadata": {},
   "outputs": [],
   "source": [
    "#tree_clf = DecisionTreeClassifier()\n",
    "\n",
    "tree_clf = DecisionTreeClassifier(max_depth=4)"
   ]
  },
  {
   "cell_type": "code",
   "execution_count": null,
   "id": "b258670b-2886-4ac1-8266-f8e43621836a",
   "metadata": {},
   "outputs": [],
   "source": [
    "tree_clf.fit(x_train, y_train)"
   ]
  },
  {
   "cell_type": "code",
   "execution_count": null,
   "id": "e67b4e7d-66bf-4c73-bcbf-af942bf8ca1b",
   "metadata": {},
   "outputs": [],
   "source": [
    "DecisionBoundaryDisplay.from_estimator(tree_clf, \n",
    "                                       df[['x0','x1']], \n",
    "                                       response_method=\"predict\",\n",
    "                                       cmap=\"RdBu\", \n",
    "                                       alpha=0.5\n",
    ")\n",
    "\n",
    "sns.scatterplot(data=df,\n",
    "                x='x0', \n",
    "                y='x1',\n",
    "                hue='y',\n",
    "                palette=['red','green','blue'])\n",
    "\n",
    "plt.legend(bbox_to_anchor=(1.05, 1), loc='upper left')"
   ]
  },
  {
   "cell_type": "code",
   "execution_count": null,
   "id": "b8390e58-38f1-479e-82ab-ab005453f38d",
   "metadata": {},
   "outputs": [],
   "source": [
    "text_representation = sklearn.tree.export_text(tree_clf)\n",
    "print(text_representation)"
   ]
  },
  {
   "cell_type": "code",
   "execution_count": null,
   "id": "f42fbf73-962d-46a5-981c-cd890e7345bf",
   "metadata": {},
   "outputs": [],
   "source": [
    "tree_clf.classes_"
   ]
  },
  {
   "cell_type": "code",
   "execution_count": null,
   "id": "c0dbcfec-6d0c-4729-845c-baa0ecc347e6",
   "metadata": {},
   "outputs": [],
   "source": [
    "plt.figure(figsize=(12,8))\n",
    "sklearn.tree.plot_tree(tree_clf, \n",
    "               feature_names=['x0','x1'],  \n",
    "               class_names=[str(i) for i in tree_clf.classes_],\n",
    "               filled=True);"
   ]
  },
  {
   "cell_type": "code",
   "execution_count": null,
   "id": "b9b9e1df-968d-440b-9c69-f11f7b27cb91",
   "metadata": {},
   "outputs": [],
   "source": [
    "plt.figure(figsize=(12,8))\n",
    "dtreeviz(tree_clf, \n",
    "         df[['x0','x1']], \n",
    "         df['y'],\n",
    "         feature_names=['x0','x1'],\n",
    "         class_names=[i for i in tree_clf.classes_],\n",
    "         target_name=\"y\")"
   ]
  },
  {
   "cell_type": "code",
   "execution_count": null,
   "id": "880c3309-ce20-48e3-ae40-d3484bc2becb",
   "metadata": {},
   "outputs": [],
   "source": [
    "test_score = tree_clf.score(x_test, y_test)\n",
    "print(f\"Accuracy of Decision Tree: {test_score:.2f}\")"
   ]
  },
  {
   "cell_type": "code",
   "execution_count": null,
   "id": "4b8d8476-c9b3-4267-9655-a95cdced0acc",
   "metadata": {},
   "outputs": [],
   "source": [
    "sample = pd.DataFrame({\"x0\": [0.], \"x1\": [1]})\n",
    "print('Predicted Class:',tree_clf.predict(sample))"
   ]
  },
  {
   "cell_type": "code",
   "execution_count": null,
   "id": "2830bab3-eeb8-4408-bf6d-e9b2d8bc54a4",
   "metadata": {},
   "outputs": [],
   "source": [
    "y_pred_proba = tree_clf.predict_proba(sample)\n",
    "print(y_pred_proba)"
   ]
  },
  {
   "cell_type": "markdown",
   "id": "ea0c789d-4c1e-4166-997e-b6a69bdf4f6c",
   "metadata": {},
   "source": [
    "# K-Nearest Neighbors"
   ]
  },
  {
   "cell_type": "code",
   "execution_count": null,
   "id": "54dac945-a2af-46a6-8c18-5e73b25ca1fe",
   "metadata": {},
   "outputs": [],
   "source": [
    "# initialize the knn classification model\n",
    "\n",
    "from sklearn.neighbors import KNeighborsClassifier\n",
    "\n",
    "knn_clf = KNeighborsClassifier(n_neighbors=10)\n",
    "# knn_clf = KNeighborsClassifier()"
   ]
  },
  {
   "cell_type": "code",
   "execution_count": null,
   "id": "b0267540-9ede-4ee1-b1a6-753f8546729e",
   "metadata": {},
   "outputs": [],
   "source": [
    "# train the decision tree classification model\n",
    "\n",
    "knn_clf.fit(x_train, y_train)"
   ]
  },
  {
   "cell_type": "code",
   "execution_count": null,
   "id": "32f89745-e60b-44e1-9066-540ba0321250",
   "metadata": {},
   "outputs": [],
   "source": [
    "DecisionBoundaryDisplay.from_estimator(knn_clf, \n",
    "                                       df[['x0','x1']], \n",
    "                                       response_method=\"predict\",\n",
    "                                       cmap=\"RdBu\", \n",
    "                                       alpha=0.5\n",
    ")\n",
    "\n",
    "sns.scatterplot(data=df,\n",
    "                x='x0', \n",
    "                y='x1',\n",
    "                hue='y',\n",
    "                palette=['red','green','blue'])\n",
    "\n",
    "plt.legend(bbox_to_anchor=(1.05, 1), loc='upper left')"
   ]
  },
  {
   "cell_type": "code",
   "execution_count": null,
   "id": "f2a36d6f-5c07-4cfd-823c-50d2b11ef072",
   "metadata": {},
   "outputs": [],
   "source": [
    "# print the accuracy of the model\n",
    "\n",
    "test_score = knn_clf.score(x_test, y_test)\n",
    "print(f\"Accuracy of KNN: {test_score:.2f}\")"
   ]
  },
  {
   "cell_type": "markdown",
   "id": "5385552e-0422-4947-8235-1f0d43800280",
   "metadata": {},
   "source": [
    "# VotingClassifier\n",
    "## Use the majority to determine the prediction"
   ]
  },
  {
   "cell_type": "code",
   "execution_count": null,
   "id": "84586b5e-59ce-4acd-a7ae-802a850341d1",
   "metadata": {},
   "outputs": [],
   "source": [
    "# print the accuracy of the model\n",
    "\n",
    "classifiers = [knn_clf, logreg_clf, tree_clf]\n",
    "\n",
    "for i in classifiers:\n",
    "    print(\"Accuracy = {:.3f}\".format(i.score(x_test, y_test)) + \" for \" + str(i))"
   ]
  },
  {
   "cell_type": "code",
   "execution_count": null,
   "id": "7a4f3071-d3ad-4db7-a140-7a2d5ccfc6ec",
   "metadata": {},
   "outputs": [],
   "source": [
    "from sklearn.ensemble import VotingClassifier"
   ]
  },
  {
   "cell_type": "code",
   "execution_count": null,
   "id": "f3e1c062-a694-487d-91f2-c07d9a022112",
   "metadata": {},
   "outputs": [],
   "source": [
    "voting_clf = VotingClassifier(\n",
    "    estimators = [('lr', logreg_clf), ('knn', knn_clf), ('tr', tree_clf)],\n",
    "    voting = 'hard')"
   ]
  },
  {
   "cell_type": "code",
   "execution_count": null,
   "id": "3b66920d-feb0-40fc-abc4-b81bc238fe96",
   "metadata": {},
   "outputs": [],
   "source": [
    "voting_clf.fit(x_train, y_train)"
   ]
  },
  {
   "cell_type": "code",
   "execution_count": null,
   "id": "2c7a00d3-0065-48bd-8fc2-77f43ecd9307",
   "metadata": {},
   "outputs": [],
   "source": [
    "from sklearn.metrics import accuracy_score"
   ]
  },
  {
   "cell_type": "code",
   "execution_count": null,
   "id": "af25cbba-2b3d-421f-8135-6e8051e5c76b",
   "metadata": {},
   "outputs": [],
   "source": [
    "classifiers = [knn_clf, logreg_clf, tree_clf, voting_clf]"
   ]
  },
  {
   "cell_type": "code",
   "execution_count": null,
   "id": "20445d1e-ac08-42f3-8268-ca1a4b77de1c",
   "metadata": {},
   "outputs": [],
   "source": [
    "for clf in classifiers:\n",
    "    clf.fit(x_train, y_train)\n",
    "    y_pred = clf.predict(x_test)\n",
    "    print(\"Accuracy = {:.3f}\".format(accuracy_score(y_test, y_pred)) + \" for \" + str(clf))"
   ]
  },
  {
   "cell_type": "code",
   "execution_count": null,
   "id": "28346bc0-c00f-4ed1-b9c8-670472d994e8",
   "metadata": {},
   "outputs": [],
   "source": [
    "votingsoft_clf = VotingClassifier(\n",
    "    estimators=[('lr', logreg_clf), ('knn', knn_clf), ('tr', tree_clf)],\n",
    "    voting='soft')\n",
    "\n",
    "votingsoft_clf.fit(x_train, y_train)\n",
    "\n",
    "classifiers.append(votingsoft_clf)\n",
    "\n",
    "for clf in classifiers:\n",
    "    clf.fit(x_train, y_train)\n",
    "    y_pred = clf.predict(x_test)\n",
    "    print(\"Accuracy = {:.3f}\".format(accuracy_score(y_test, y_pred)) + \" for \" + str(clf))"
   ]
  },
  {
   "cell_type": "markdown",
   "id": "884952f7-a59a-4a33-9670-3b5da4dbb9e1",
   "metadata": {},
   "source": [
    "Voting won't necessarily give you a better model.  Consider a trivially bad case where 2 of 3 classifiers are both bad in the same region of feature space.\n",
    "\n",
    "Voting will at least be a representation of several of your models combined together.\n",
    "\n",
    "Voting will also be improved by using a wide variety of models and models which are not correlated with each other."
   ]
  },
  {
   "cell_type": "code",
   "execution_count": null,
   "id": "472f647a-abd4-4d06-8db9-3969e489a25e",
   "metadata": {},
   "outputs": [],
   "source": [
    "from sklearn.svm import SVC"
   ]
  },
  {
   "cell_type": "code",
   "execution_count": null,
   "id": "c2aabe70-7b5f-47f6-a747-f9d6923d6b0c",
   "metadata": {},
   "outputs": [],
   "source": [
    "svm_clf = SVC(probability=True)\n",
    "svm_clf.fit(x_train, y_train)"
   ]
  },
  {
   "cell_type": "code",
   "execution_count": null,
   "id": "0cdb2c31-d4f1-4f9e-99ad-1b98e57195b0",
   "metadata": {},
   "outputs": [],
   "source": [
    "classifiers = [knn_clf, logreg_clf, tree_clf, svm_clf]\n",
    "\n",
    "for clf in classifiers:\n",
    "    clf.fit(x_train, y_train)\n",
    "    y_pred = clf.predict(x_test)\n",
    "    print(\"Accuracy = {:.3f}\".format(accuracy_score(y_test, y_pred)) + \" for \" + str(clf))"
   ]
  },
  {
   "cell_type": "code",
   "execution_count": null,
   "id": "19519efd-8c80-4e2e-a04e-baa1ce3f201e",
   "metadata": {},
   "outputs": [],
   "source": [
    "voting_clf = VotingClassifier(\n",
    "    estimators=[('lr', logreg_clf), ('knn', knn_clf), ('tr', tree_clf), ('svm', svm_clf)],\n",
    "    voting='hard')\n",
    "\n",
    "voting_clf.fit(x_train, y_train)\n",
    "\n",
    "classifiers.append(voting_clf)\n",
    "\n",
    "for clf in classifiers:\n",
    "    clf.fit(x_train, y_train)\n",
    "    y_pred = clf.predict(x_test)\n",
    "    print(\"Accuracy = {:.3f}\".format(accuracy_score(y_test, y_pred)) + \" for \" + str(clf))"
   ]
  },
  {
   "cell_type": "code",
   "execution_count": null,
   "id": "0d60c396-6684-4bc4-848b-cd60454d52c8",
   "metadata": {},
   "outputs": [],
   "source": [
    "votingsoft_clf = VotingClassifier(\n",
    "    estimators=[('lr', logreg_clf), ('knn', knn_clf), ('tr', tree_clf), ('svm', svm_clf)],\n",
    "    voting='soft')\n",
    "\n",
    "voting_clf.fit(x_train, y_train)\n",
    "\n",
    "classifiers.append(votingsoft_clf)\n",
    "\n",
    "for clf in classifiers:\n",
    "    clf.fit(x_train, y_train)\n",
    "    y_pred = clf.predict(x_test)\n",
    "    print(\"Accuracy = {:.3f}\".format(accuracy_score(y_test, y_pred)) + \" for \" + str(clf))"
   ]
  },
  {
   "cell_type": "markdown",
   "id": "fdc10d77-370b-42b3-9a75-0d9922811f65",
   "metadata": {},
   "source": [
    "## Let's apply this Ensembling to last week's data\n",
    "\n",
    "Adapt the above to do Logistic Regression and Decision Tree Classification on last week's classification dataset on breast cancer.\n",
    "* Use the feature variables \"mean radius\" and \"mean texture\"\n",
    "* Predict the 0 or 1 cancer target variable"
   ]
  },
  {
   "cell_type": "code",
   "execution_count": null,
   "id": "a8cede9f-7738-4ea9-b810-c06493ccf273",
   "metadata": {},
   "outputs": [],
   "source": [
    "import sklearn.datasets\n",
    "import sklearn.model_selection\n",
    "\n",
    "x,y = sklearn.datasets.load_breast_cancer(return_X_y=True,\n",
    "                                          as_frame=True)"
   ]
  },
  {
   "cell_type": "code",
   "execution_count": null,
   "id": "45ce3a6c-3d9c-42c9-ad1e-ef8fa50162c0",
   "metadata": {},
   "outputs": [],
   "source": [
    "x['target'] = y"
   ]
  },
  {
   "cell_type": "code",
   "execution_count": null,
   "id": "5e21cc07-f549-45ae-b624-b2dd621ea1d9",
   "metadata": {},
   "outputs": [],
   "source": [
    "x.corr()['target']"
   ]
  },
  {
   "cell_type": "code",
   "execution_count": null,
   "id": "75d921a6-fec0-4046-ba9e-33486904806b",
   "metadata": {},
   "outputs": [],
   "source": [
    "sns.scatterplot(data=x, \n",
    "                x='mean radius', \n",
    "                y='mean texture',\n",
    "                hue='target')"
   ]
  },
  {
   "cell_type": "code",
   "execution_count": null,
   "id": "2eeaf739-1c92-45ac-8e44-b4eb9f35d033",
   "metadata": {},
   "outputs": [],
   "source": [
    "# split into training/test sets\n",
    "\n",
    "x_train, x_test, y_train, y_test = train_test_split(x[['mean radius','mean texture']], \n",
    "                                                    x['target'], \n",
    "                                                    random_state=0)"
   ]
  },
  {
   "cell_type": "code",
   "execution_count": null,
   "id": "4ed4b227-7014-4cec-861d-24a2297c8eb0",
   "metadata": {},
   "outputs": [],
   "source": [
    "# initialize the logistic regression model\n",
    "\n",
    "logreg_clf = LogisticRegression()"
   ]
  },
  {
   "cell_type": "code",
   "execution_count": null,
   "id": "9ae5a53f-97e5-4dcf-8dcf-3ad4f525337a",
   "metadata": {},
   "outputs": [],
   "source": [
    "# train the logistic regression model\n",
    "\n",
    "logreg_clf.fit(x_train, y_train)"
   ]
  },
  {
   "cell_type": "code",
   "execution_count": null,
   "id": "8389b66f-1001-4f5a-b2fb-ebbc4c96d499",
   "metadata": {},
   "outputs": [],
   "source": [
    "# plot the decision boundary with the data\n",
    "\n",
    "DecisionBoundaryDisplay.from_estimator(logreg_clf, \n",
    "                                       x_train, \n",
    "                                       response_method=\"predict\",\n",
    "                                       cmap=\"RdBu\", \n",
    "                                       alpha=0.5\n",
    ")\n",
    "\n",
    "sns.scatterplot(data=x,\n",
    "                x='mean radius', \n",
    "                y='mean texture',\n",
    "                hue='target',\n",
    "                palette=['red','green'])\n",
    "\n",
    "plt.legend(bbox_to_anchor=(1.05, 1), loc='upper left')"
   ]
  },
  {
   "cell_type": "code",
   "execution_count": null,
   "id": "f4945b8f-53c3-415c-ac65-368c5c9599fb",
   "metadata": {},
   "outputs": [],
   "source": [
    "# print the accuracy of the model\n",
    "\n",
    "test_score = logreg_clf.score(x_test, y_test)\n",
    "print(f\"Accuracy of Logistic Regression: {test_score:.2f}\")"
   ]
  },
  {
   "cell_type": "markdown",
   "id": "f9d70407-9c86-4b5a-ae37-c83e009e5525",
   "metadata": {},
   "source": [
    "## Decision Tree"
   ]
  },
  {
   "cell_type": "code",
   "execution_count": null,
   "id": "1831c580-e565-46f3-90d8-41019325dacb",
   "metadata": {},
   "outputs": [],
   "source": [
    "# initialize the decision tree classification model\n",
    "\n",
    "tree_clf = DecisionTreeClassifier(max_depth=3)"
   ]
  },
  {
   "cell_type": "code",
   "execution_count": null,
   "id": "dbfdf319-e898-403f-8487-010e64e19573",
   "metadata": {},
   "outputs": [],
   "source": [
    "# train the decision tree classification model\n",
    "\n",
    "tree_clf.fit(x_train, y_train)"
   ]
  },
  {
   "cell_type": "code",
   "execution_count": null,
   "id": "ca619b2a-d01c-451d-aa76-17bedb50357a",
   "metadata": {},
   "outputs": [],
   "source": [
    "# plot the decision boundary with the data\n",
    "\n",
    "DecisionBoundaryDisplay.from_estimator(tree_clf, \n",
    "                                       x_train, \n",
    "                                       response_method=\"predict\",\n",
    "                                       cmap=\"RdBu\", \n",
    "                                       alpha=0.5\n",
    ")\n",
    "\n",
    "sns.scatterplot(data=x,\n",
    "                x='mean radius', \n",
    "                y='mean texture',\n",
    "                hue='target',\n",
    "                palette=['red','green'])\n",
    "\n",
    "plt.legend(bbox_to_anchor=(1.05, 1), loc='upper left')"
   ]
  },
  {
   "cell_type": "code",
   "execution_count": null,
   "id": "cdc80477-50c4-4e3f-a62c-318783c5f1cf",
   "metadata": {},
   "outputs": [],
   "source": [
    "# print out a text representation of the tree\n",
    "\n",
    "text_representation = sklearn.tree.export_text(tree_clf)\n",
    "print(text_representation)"
   ]
  },
  {
   "cell_type": "code",
   "execution_count": null,
   "id": "922def3f-1584-47f8-a273-9f2e1d17eb7b",
   "metadata": {},
   "outputs": [],
   "source": [
    "# plot a visualization of the tree\n",
    "\n",
    "plt.figure(figsize=(12,8))\n",
    "sklearn.tree.plot_tree(tree_clf, \n",
    "               feature_names=['mean radius','mean texture'],  \n",
    "               class_names=[str(i) for i in tree_clf.classes_],\n",
    "               filled=True);"
   ]
  },
  {
   "cell_type": "code",
   "execution_count": null,
   "id": "81320323-8f68-403b-b821-b6b072a45ada",
   "metadata": {},
   "outputs": [],
   "source": [
    "# print the accuracy of the model\n",
    "\n",
    "test_score = tree_clf.score(x_test, y_test)\n",
    "print(f\"Accuracy of Decision Tree: {test_score:.2f}\")"
   ]
  },
  {
   "cell_type": "code",
   "execution_count": null,
   "id": "1a35580a-88ec-4048-9542-1a9456b8b537",
   "metadata": {},
   "outputs": [],
   "source": [
    "# make a sample data point\n",
    "# predict its class\n",
    "# and print the calculated prediction probabilities for each class\n",
    "\n",
    "sample = pd.DataFrame({\"mean radius\": [16.], \"mean texture\": [40]})\n",
    "print('Predicted Class:',tree_clf.predict(sample))\n",
    "\n",
    "y_pred_proba = tree_clf.predict_proba(sample)\n",
    "print('Predicted Probabilies of Class Membership: ',y_pred_proba)\n",
    "\n",
    "pd.Series(y_pred_proba[0], index=tree_clf.classes_).plot.bar()"
   ]
  },
  {
   "cell_type": "markdown",
   "id": "3f823184-2c60-4271-bfe7-032d0dab2d1b",
   "metadata": {},
   "source": [
    "Create one more classifier still.  Let's use K-Nearest Neighbors."
   ]
  },
  {
   "cell_type": "code",
   "execution_count": null,
   "id": "b477749f-0357-4207-ba6e-401af01b5db6",
   "metadata": {},
   "outputs": [],
   "source": [
    "# initialize the knn classification model\n",
    "\n",
    "from sklearn.neighbors import KNeighborsClassifier\n",
    "\n",
    "knn_clf = KNeighborsClassifier(n_neighbors=10)"
   ]
  },
  {
   "cell_type": "code",
   "execution_count": null,
   "id": "d6993b2d-27b2-4038-8222-4d81780532e7",
   "metadata": {},
   "outputs": [],
   "source": [
    "# train the decision tree classification model\n",
    "\n",
    "knn_clf.fit(x_train, y_train)"
   ]
  },
  {
   "cell_type": "code",
   "execution_count": null,
   "id": "3ff9f254-067f-4235-a9fa-b8053becc768",
   "metadata": {},
   "outputs": [],
   "source": [
    "# plot the decision boundary with the data\n",
    "\n",
    "DecisionBoundaryDisplay.from_estimator(knn_clf, \n",
    "                                       x_train, \n",
    "                                       response_method=\"predict\",\n",
    "                                       cmap=\"RdBu\", \n",
    "                                       alpha=0.5\n",
    ")\n",
    "\n",
    "sns.scatterplot(data=x,\n",
    "                x='mean radius', \n",
    "                y='mean texture',\n",
    "                hue='target',\n",
    "                palette=['red','green'])\n",
    "\n",
    "plt.legend(bbox_to_anchor=(1.05, 1), loc='upper left')"
   ]
  },
  {
   "cell_type": "code",
   "execution_count": null,
   "id": "35341e5e-421f-49f4-aa7b-bfaf3bdba3e9",
   "metadata": {},
   "outputs": [],
   "source": [
    "# print the accuracy of the model\n",
    "\n",
    "test_score = knn_clf.score(x_test, y_test)\n",
    "print(f\"Accuracy of KNN: {test_score:.2f}\")"
   ]
  },
  {
   "cell_type": "code",
   "execution_count": null,
   "id": "96473de4-5572-483d-ba9e-49585d806124",
   "metadata": {},
   "outputs": [],
   "source": [
    "# print the accuracy of the model\n",
    "\n",
    "classifiers = [knn_clf, logreg_clf, tree_clf]\n",
    "\n",
    "for clf in classifiers:\n",
    "    clf.fit(x_train, y_train)\n",
    "    y_pred = clf.predict(x_test)\n",
    "    print(\"Accuracy = {:.3f}\".format(accuracy_score(y_test, y_pred)) + \" for \" + str(clf))"
   ]
  },
  {
   "cell_type": "code",
   "execution_count": null,
   "id": "bb03bd98-fe69-4248-bb15-74cd595e8284",
   "metadata": {},
   "outputs": [],
   "source": [
    "voting_clf = VotingClassifier(\n",
    "    estimators=[('lr', logreg_clf), ('knn', knn_clf), ('tr', tree_clf)],\n",
    "    voting='hard')\n",
    "\n",
    "voting_clf.fit(x_train, y_train)\n",
    "\n",
    "classifiers.append(voting_clf)\n",
    "\n",
    "for clf in classifiers:\n",
    "    clf.fit(x_train, y_train)\n",
    "    y_pred = clf.predict(x_test)\n",
    "    print(\"Accuracy = {:.3f}\".format(accuracy_score(y_test, y_pred)) + \" for \" + str(clf))"
   ]
  },
  {
   "cell_type": "code",
   "execution_count": null,
   "id": "fad9fcb4-9f73-4770-923f-96fe682ebebc",
   "metadata": {},
   "outputs": [],
   "source": [
    "votingsoft_clf = VotingClassifier(\n",
    "    estimators=[('lr', logreg_clf), ('knn', knn_clf), ('tr', tree_clf)],\n",
    "    voting='soft')\n",
    "\n",
    "voting_clf.fit(x_train, y_train)\n",
    "\n",
    "classifiers.append(votingsoft_clf)\n",
    "\n",
    "for clf in classifiers:\n",
    "    clf.fit(x_train, y_train)\n",
    "    y_pred = clf.predict(x_test)\n",
    "    print(\"Accuracy = {:.3f}\".format(accuracy_score(y_test, y_pred)) + \" for \" + str(clf))"
   ]
  },
  {
   "cell_type": "code",
   "execution_count": null,
   "id": "f31d63ac-9252-4de9-91ba-95022d0c0f0e",
   "metadata": {},
   "outputs": [],
   "source": [
    "from sklearn.svm import SVC"
   ]
  },
  {
   "cell_type": "code",
   "execution_count": null,
   "id": "4ac7ac5f-4d76-477e-af1f-45f61be7fa53",
   "metadata": {},
   "outputs": [],
   "source": [
    "svm_clf = SVC(probability=True)\n",
    "svm_clf.fit(x_train, y_train)"
   ]
  },
  {
   "cell_type": "code",
   "execution_count": null,
   "id": "3ad1ad9a-4aa7-4210-a3ee-e7716f254943",
   "metadata": {},
   "outputs": [],
   "source": [
    "classifiers = [knn_clf, logreg_clf, tree_clf, svm_clf]\n",
    "\n",
    "for clf in classifiers:\n",
    "    clf.fit(x_train, y_train)\n",
    "    y_pred = clf.predict(x_test)\n",
    "    print(\"Accuracy = {:.3f}\".format(accuracy_score(y_test, y_pred)) + \" for \" + str(clf))"
   ]
  },
  {
   "cell_type": "code",
   "execution_count": null,
   "id": "e4d1637a-bc9c-4f61-ae04-054a858395d9",
   "metadata": {},
   "outputs": [],
   "source": [
    "voting_clf = VotingClassifier(\n",
    "    estimators=[('lr', logreg_clf), ('knn', knn_clf), ('tr', tree_clf)],\n",
    "    voting='hard')\n",
    "\n",
    "voting_clf.fit(x_train, y_train)\n",
    "\n",
    "classifiers.append(voting_clf)\n",
    "\n",
    "for clf in classifiers:\n",
    "    clf.fit(x_train, y_train)\n",
    "    y_pred = clf.predict(x_test)\n",
    "    print(\"Accuracy = {:.3f}\".format(accuracy_score(y_test, y_pred)) + \" for \" + str(clf))"
   ]
  },
  {
   "cell_type": "code",
   "execution_count": null,
   "id": "8b2d0913-cd2c-4b6b-a843-e0edea30bcf3",
   "metadata": {},
   "outputs": [],
   "source": [
    "votingsoft_clf = VotingClassifier(\n",
    "    estimators=[('lr', logreg_clf), ('knn', knn_clf), ('tr', tree_clf)],\n",
    "    voting='soft')\n",
    "\n",
    "voting_clf.fit(x_train, y_train)\n",
    "\n",
    "classifiers.append(votingsoft_clf)\n",
    "\n",
    "for clf in classifiers:\n",
    "    clf.fit(x_train, y_train)\n",
    "    y_pred = clf.predict(x_test)\n",
    "    print(\"Accuracy = {:.3f}\".format(accuracy_score(y_test, y_pred)) + \" for \" + str(clf))"
   ]
  },
  {
   "cell_type": "markdown",
   "id": "0f27a003-f212-4d8b-86a4-b7e648eee9bb",
   "metadata": {},
   "source": [
    "# Moons"
   ]
  },
  {
   "cell_type": "code",
   "execution_count": null,
   "id": "6e757460-258d-4ebd-a974-41a8db4118a4",
   "metadata": {},
   "outputs": [],
   "source": [
    "from sklearn.datasets import make_moons"
   ]
  },
  {
   "cell_type": "code",
   "execution_count": null,
   "id": "109498b3-c083-488b-8c08-2dd52e8981ea",
   "metadata": {},
   "outputs": [],
   "source": [
    "x, y = make_moons(n_samples=100, noise=0.1, random_state=42)"
   ]
  },
  {
   "cell_type": "code",
   "execution_count": null,
   "id": "bf73ce23-0272-4d4e-9967-9c01fccdef60",
   "metadata": {},
   "outputs": [],
   "source": [
    "sns.scatterplot(x=x[:,0], \n",
    "                y=x[:,1],\n",
    "                hue=y)"
   ]
  },
  {
   "cell_type": "code",
   "execution_count": null,
   "id": "4b093240-a0d9-4e33-81d2-3d8c56e9611b",
   "metadata": {},
   "outputs": [],
   "source": [
    "# split into training/test sets\n",
    "\n",
    "x_train, x_test, y_train, y_test = train_test_split(x, \n",
    "                                                    y, \n",
    "                                                    random_state=0)"
   ]
  },
  {
   "cell_type": "code",
   "execution_count": null,
   "id": "46d778e6-5a08-4c82-83f5-a26c770f136a",
   "metadata": {},
   "outputs": [],
   "source": [
    "# initialize the knn classification model\n",
    "\n",
    "from sklearn.neighbors import KNeighborsClassifier\n",
    "\n",
    "# knn_clf = KNeighborsClassifier(n_neighbors=3)\n",
    "knn_clf = KNeighborsClassifier(n_neighbors=1)"
   ]
  },
  {
   "cell_type": "code",
   "execution_count": null,
   "id": "bfba3fb4-82d9-4f69-ba02-0c9da46af071",
   "metadata": {},
   "outputs": [],
   "source": [
    "# train the decision tree classification model\n",
    "\n",
    "knn_clf.fit(x_train, y_train)"
   ]
  },
  {
   "cell_type": "code",
   "execution_count": null,
   "id": "eeae1912-5c79-45c7-b3fd-86b6ff22e08c",
   "metadata": {},
   "outputs": [],
   "source": [
    "# plot the decision boundary with the data\n",
    "\n",
    "DecisionBoundaryDisplay.from_estimator(knn_clf, \n",
    "                                       x, \n",
    "                                       response_method=\"predict\",\n",
    "                                       cmap=\"RdBu\", \n",
    "                                       alpha=0.5\n",
    ")\n",
    "\n",
    "sns.scatterplot(x=x[:,0], \n",
    "                y=x[:,1],\n",
    "                hue=y,\n",
    "                palette=['red','green'])\n",
    "\n",
    "plt.legend(bbox_to_anchor=(1.05, 1), loc='upper left')"
   ]
  },
  {
   "cell_type": "code",
   "execution_count": null,
   "id": "ec75511e-e699-4b88-9ca5-51b64220a310",
   "metadata": {},
   "outputs": [],
   "source": [
    "# print the accuracy of the model\n",
    "\n",
    "test_score = knn_clf.score(x_test, y_test)\n",
    "print(f\"Accuracy of KNN: {test_score:.2f}\")"
   ]
  },
  {
   "cell_type": "code",
   "execution_count": null,
   "id": "aa15b166-77af-4cad-8241-58b802e9d596",
   "metadata": {},
   "outputs": [],
   "source": [
    "x, y = make_moons(n_samples=400, noise=0.3, random_state=42)"
   ]
  },
  {
   "cell_type": "code",
   "execution_count": null,
   "id": "e80565f5-40ae-4a0b-af4f-a000653e6aec",
   "metadata": {},
   "outputs": [],
   "source": [
    "sns.scatterplot(x=x[:,0], \n",
    "                y=x[:,1],\n",
    "                hue=y)"
   ]
  },
  {
   "cell_type": "code",
   "execution_count": null,
   "id": "8e0f436e-ee05-4afc-8bcb-f3bff82c376d",
   "metadata": {},
   "outputs": [],
   "source": [
    "# split into training/test sets\n",
    "\n",
    "x_train, x_test, y_train, y_test = train_test_split(x, \n",
    "                                                    y, \n",
    "                                                    random_state=0)"
   ]
  },
  {
   "cell_type": "code",
   "execution_count": null,
   "id": "5ec07482-ecd9-4007-b15c-26fe827d4a03",
   "metadata": {},
   "outputs": [],
   "source": [
    "# initialize the knn classification model\n",
    "\n",
    "from sklearn.neighbors import KNeighborsClassifier\n",
    "\n",
    "# knn_clf = KNeighborsClassifier(n_neighbors=5)\n",
    "knn_clf = KNeighborsClassifier()"
   ]
  },
  {
   "cell_type": "code",
   "execution_count": null,
   "id": "6bf547d9-166e-4af3-86ed-ef6b291597ca",
   "metadata": {},
   "outputs": [],
   "source": [
    "# train the decision tree classification model\n",
    "\n",
    "knn_clf.fit(x_train, y_train)"
   ]
  },
  {
   "cell_type": "code",
   "execution_count": null,
   "id": "82bf58c1-f3bc-4685-b8a1-b9dca4e13148",
   "metadata": {},
   "outputs": [],
   "source": [
    "# plot the decision boundary with the data\n",
    "\n",
    "DecisionBoundaryDisplay.from_estimator(knn_clf, \n",
    "                                       x, \n",
    "                                       response_method=\"predict\",\n",
    "                                       cmap=\"RdBu\", \n",
    "                                       alpha=0.5\n",
    ")\n",
    "\n",
    "sns.scatterplot(x=x[:,0], \n",
    "                y=x[:,1],\n",
    "                hue=y,\n",
    "                palette=['red','green'])\n",
    "\n",
    "plt.legend(bbox_to_anchor=(1.05, 1), loc='upper left')"
   ]
  },
  {
   "cell_type": "code",
   "execution_count": null,
   "id": "a2434a70-1f73-40c7-b655-0dffa794b0dd",
   "metadata": {},
   "outputs": [],
   "source": [
    "# print the accuracy of the model\n",
    "\n",
    "test_score = knn_clf.score(x_test, y_test)\n",
    "print(f\"Accuracy of KNN: {test_score:.2f}\")"
   ]
  },
  {
   "cell_type": "code",
   "execution_count": null,
   "id": "712048ea-1e02-470c-9299-0cddbcef7022",
   "metadata": {},
   "outputs": [],
   "source": [
    "# initialize the logistic regression model\n",
    "\n",
    "logreg_clf = LogisticRegression()"
   ]
  },
  {
   "cell_type": "code",
   "execution_count": null,
   "id": "8bb4a1ec-186e-4cf7-a67a-af549fa0cac7",
   "metadata": {},
   "outputs": [],
   "source": [
    "# train the logistic regression model\n",
    "\n",
    "logreg_clf.fit(x_train, y_train)"
   ]
  },
  {
   "cell_type": "code",
   "execution_count": null,
   "id": "a347b21b-3954-418f-820a-4fac20406cfd",
   "metadata": {},
   "outputs": [],
   "source": [
    "# plot the decision boundary with the data\n",
    "\n",
    "DecisionBoundaryDisplay.from_estimator(logreg_clf, \n",
    "                                       x, \n",
    "                                       response_method=\"predict\",\n",
    "                                       cmap=\"RdBu\", \n",
    "                                       alpha=0.5\n",
    ")\n",
    "\n",
    "sns.scatterplot(x=x[:,0], \n",
    "                y=x[:,1],\n",
    "                hue=y,\n",
    "                palette=['red','green'])\n",
    "\n",
    "plt.legend(bbox_to_anchor=(1.05, 1), loc='upper left')"
   ]
  },
  {
   "cell_type": "code",
   "execution_count": null,
   "id": "01769d1c-550a-4b6c-8feb-74ce60aea5a9",
   "metadata": {},
   "outputs": [],
   "source": [
    "# print the accuracy of the model\n",
    "\n",
    "test_score = logreg_clf.score(x_test, y_test)\n",
    "print(f\"Accuracy of Logistic Regression: {test_score:.2f}\")"
   ]
  },
  {
   "cell_type": "code",
   "execution_count": null,
   "id": "b29c20a4-7b75-400a-8af2-75091c55e731",
   "metadata": {},
   "outputs": [],
   "source": [
    "# initialize the logistic regression model\n",
    "\n",
    "tree_clf = DecisionTreeClassifier()"
   ]
  },
  {
   "cell_type": "code",
   "execution_count": null,
   "id": "21a413c1-81a1-4c5f-ac6a-e0b6c166245f",
   "metadata": {},
   "outputs": [],
   "source": [
    "# train the logistic regression model\n",
    "\n",
    "tree_clf.fit(x_train, y_train)"
   ]
  },
  {
   "cell_type": "code",
   "execution_count": null,
   "id": "48e495b4-65c9-46df-883e-487db5d22287",
   "metadata": {},
   "outputs": [],
   "source": [
    "# plot the decision boundary with the data\n",
    "\n",
    "DecisionBoundaryDisplay.from_estimator(tree_clf, \n",
    "                                       x, \n",
    "                                       response_method=\"predict\",\n",
    "                                       cmap=\"RdBu\", \n",
    "                                       alpha=0.5\n",
    ")\n",
    "\n",
    "sns.scatterplot(x=x[:,0], \n",
    "                y=x[:,1],\n",
    "                hue=y,\n",
    "                palette=['red','green'])\n",
    "\n",
    "plt.legend(bbox_to_anchor=(1.05, 1), loc='upper left')"
   ]
  },
  {
   "cell_type": "code",
   "execution_count": null,
   "id": "23d45d0d-6ad7-4bbf-9ecb-44d111e10ed1",
   "metadata": {},
   "outputs": [],
   "source": [
    "# print the accuracy of the model\n",
    "\n",
    "test_score = tree_clf.score(x_test, y_test)\n",
    "print(f\"Accuracy of Logistic Regression: {test_score:.2f}\")"
   ]
  },
  {
   "cell_type": "code",
   "execution_count": null,
   "id": "36a14fc6-0794-4e71-8d9b-e425f72fba04",
   "metadata": {},
   "outputs": [],
   "source": [
    "# print the accuracy of the model\n",
    "\n",
    "classifiers = [knn_clf, logreg_clf, tree_clf]\n",
    "\n",
    "for clf in classifiers:\n",
    "    clf.fit(x_train, y_train)\n",
    "    y_pred = clf.predict(x_test)\n",
    "    print(\"Accuracy = {:.3f}\".format(accuracy_score(y_test, y_pred)) + \" for \" + str(clf))"
   ]
  },
  {
   "cell_type": "code",
   "execution_count": null,
   "id": "9bf999bd-3659-4284-a159-da044f7a2b48",
   "metadata": {},
   "outputs": [],
   "source": [
    "voting_clf = VotingClassifier(\n",
    "    estimators=[('lr', logreg_clf), ('knn', knn_clf), ('tr', tree_clf)],\n",
    "    voting='hard')\n",
    "\n",
    "voting_clf.fit(x_train, y_train)\n",
    "\n",
    "classifiers.append(voting_clf)\n",
    "\n",
    "for clf in classifiers:\n",
    "    clf.fit(x_train, y_train)\n",
    "    y_pred = clf.predict(x_test)\n",
    "    print(\"Accuracy = {:.3f}\".format(accuracy_score(y_test, y_pred)) + \" for \" + str(clf))"
   ]
  },
  {
   "cell_type": "code",
   "execution_count": null,
   "id": "932b2090-b603-46cb-a1dc-3c62845f2d28",
   "metadata": {},
   "outputs": [],
   "source": [
    "# plot the decision boundary with the data\n",
    "\n",
    "DecisionBoundaryDisplay.from_estimator(voting_clf, \n",
    "                                       x, \n",
    "                                       response_method=\"predict\",\n",
    "                                       cmap=\"RdBu\", \n",
    "                                       alpha=0.5\n",
    ")\n",
    "\n",
    "sns.scatterplot(x=x[:,0], \n",
    "                y=x[:,1],\n",
    "                hue=y,\n",
    "                palette=['red','green'])\n",
    "\n",
    "plt.legend(bbox_to_anchor=(1.05, 1), loc='upper left')"
   ]
  },
  {
   "cell_type": "code",
   "execution_count": null,
   "id": "f074e64a-ee77-4d11-9c91-74ac1a468f87",
   "metadata": {},
   "outputs": [],
   "source": [
    "votingsoft_clf = VotingClassifier(\n",
    "    estimators=[('lr', logreg_clf), ('knn', knn_clf), ('tr', tree_clf)],\n",
    "    voting='soft')\n",
    "\n",
    "voting_clf.fit(x_train, y_train)\n",
    "\n",
    "classifiers.append(votingsoft_clf)\n",
    "\n",
    "for clf in classifiers:\n",
    "    clf.fit(x_train, y_train)\n",
    "    y_pred = clf.predict(x_test)\n",
    "    print(\"Accuracy = {:.3f}\".format(accuracy_score(y_test, y_pred)) + \" for \" + str(clf))"
   ]
  },
  {
   "cell_type": "code",
   "execution_count": null,
   "id": "cd43ba90-32ed-415b-b0f6-22252d5b7457",
   "metadata": {},
   "outputs": [],
   "source": [
    "# plot the decision boundary with the data\n",
    "\n",
    "DecisionBoundaryDisplay.from_estimator(votingsoft_clf, \n",
    "                                       x, \n",
    "                                       response_method=\"predict\",\n",
    "                                       cmap=\"RdBu\", \n",
    "                                       alpha=0.5\n",
    ")\n",
    "\n",
    "sns.scatterplot(x=x[:,0], \n",
    "                y=x[:,1],\n",
    "                hue=y,\n",
    "                palette=['red','green'])\n",
    "\n",
    "plt.legend(bbox_to_anchor=(1.05, 1), loc='upper left')"
   ]
  }
 ],
 "metadata": {
  "kernelspec": {
   "display_name": "Python 3 (ipykernel)",
   "language": "python",
   "name": "python3"
  },
  "language_info": {
   "codemirror_mode": {
    "name": "ipython",
    "version": 3
   },
   "file_extension": ".py",
   "mimetype": "text/x-python",
   "name": "python",
   "nbconvert_exporter": "python",
   "pygments_lexer": "ipython3",
   "version": "3.10.6"
  }
 },
 "nbformat": 4,
 "nbformat_minor": 5
}
