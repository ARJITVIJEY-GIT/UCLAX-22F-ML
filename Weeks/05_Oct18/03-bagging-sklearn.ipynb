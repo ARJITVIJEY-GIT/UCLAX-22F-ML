{
 "cells": [
  {
   "cell_type": "markdown",
   "id": "0a01987c-e1a0-4c6f-b18f-0a8aae96dcb7",
   "metadata": {},
   "source": [
    "# Bagging (with scikit-learn)"
   ]
  },
  {
   "cell_type": "code",
   "execution_count": null,
   "id": "026e801b-a442-4cb8-9ef7-0ba0513fbdb1",
   "metadata": {},
   "outputs": [],
   "source": [
    "import numpy as np\n",
    "import pandas as pd\n",
    "import seaborn as sns\n",
    "import matplotlib.pyplot as plt\n",
    "from sklearn.datasets import make_blobs\n",
    "from sklearn.linear_model import LogisticRegression\n",
    "from sklearn.tree import DecisionTreeClassifier\n",
    "import sklearn.tree\n",
    "from sklearn.inspection import DecisionBoundaryDisplay\n",
    "from sklearn.model_selection import train_test_split\n",
    "from sklearn.neighbors import KNeighborsClassifier\n",
    "from sklearn.ensemble import VotingClassifier\n",
    "from sklearn.metrics import accuracy_score\n",
    "from dtreeviz.trees import dtreeviz"
   ]
  },
  {
   "cell_type": "markdown",
   "id": "0f27a003-f212-4d8b-86a4-b7e648eee9bb",
   "metadata": {},
   "source": [
    "# Moons"
   ]
  },
  {
   "cell_type": "code",
   "execution_count": null,
   "id": "6e757460-258d-4ebd-a974-41a8db4118a4",
   "metadata": {},
   "outputs": [],
   "source": [
    "from sklearn.datasets import make_moons"
   ]
  },
  {
   "cell_type": "code",
   "execution_count": null,
   "id": "aa15b166-77af-4cad-8241-58b802e9d596",
   "metadata": {},
   "outputs": [],
   "source": [
    "x, y = make_moons(n_samples=400, noise=0.3, random_state=42)"
   ]
  },
  {
   "cell_type": "code",
   "execution_count": null,
   "id": "e80565f5-40ae-4a0b-af4f-a000653e6aec",
   "metadata": {},
   "outputs": [],
   "source": [
    "sns.scatterplot(x=x[:,0], \n",
    "                y=x[:,1],\n",
    "                hue=y)"
   ]
  },
  {
   "cell_type": "code",
   "execution_count": null,
   "id": "8e0f436e-ee05-4afc-8bcb-f3bff82c376d",
   "metadata": {},
   "outputs": [],
   "source": [
    "x_train, x_test, y_train, y_test = train_test_split(x, \n",
    "                                                    y, \n",
    "                                                    random_state=0)"
   ]
  },
  {
   "cell_type": "code",
   "execution_count": null,
   "id": "5ec07482-ecd9-4007-b15c-26fe827d4a03",
   "metadata": {},
   "outputs": [],
   "source": [
    "knn_clf = KNeighborsClassifier()\n",
    "logreg_clf = LogisticRegression()\n",
    "tree_clf = DecisionTreeClassifier()"
   ]
  },
  {
   "cell_type": "code",
   "execution_count": null,
   "id": "8fda7347-c72b-4cae-8115-ad3765d68709",
   "metadata": {},
   "outputs": [],
   "source": [
    "voting_clf = VotingClassifier(\n",
    "    estimators=[('lr', logreg_clf), ('knn', knn_clf), ('tr', tree_clf)],\n",
    "    voting='hard')"
   ]
  },
  {
   "cell_type": "code",
   "execution_count": null,
   "id": "190be6a0-3894-45bb-bc5c-51e2b620a66f",
   "metadata": {},
   "outputs": [],
   "source": [
    "voting_clf.fit(x_train, y_train)"
   ]
  },
  {
   "cell_type": "code",
   "execution_count": null,
   "id": "338d9024-ff29-4fa5-ad95-6bf407043b1b",
   "metadata": {},
   "outputs": [],
   "source": [
    "classifiers = [knn_clf, logreg_clf, tree_clf, voting_clf]"
   ]
  },
  {
   "cell_type": "code",
   "execution_count": null,
   "id": "095e1bc8-b6a6-4d23-9c78-a9c6717664ea",
   "metadata": {},
   "outputs": [],
   "source": [
    "for clf in classifiers:\n",
    "    clf.fit(x_train, y_train)\n",
    "    y_pred = clf.predict(x_test)\n",
    "    print(clf.__class__.__name__, accuracy_score(y_test, y_pred))"
   ]
  },
  {
   "cell_type": "code",
   "execution_count": null,
   "id": "f074e64a-ee77-4d11-9c91-74ac1a468f87",
   "metadata": {},
   "outputs": [],
   "source": [
    "votingsoft_clf = VotingClassifier(\n",
    "    estimators=[('lr', logreg_clf), ('knn', knn_clf), ('tr', tree_clf)],\n",
    "    voting='soft')\n",
    "\n",
    "votingsoft_clf.fit(x_train, y_train)\n",
    "\n",
    "classifiers = [knn_clf, logreg_clf, tree_clf, voting_clf, votingsoft_clf]\n",
    "\n",
    "for clf in classifiers:\n",
    "    clf.fit(x_train, y_train)\n",
    "    y_pred = clf.predict(x_test)\n",
    "    print(clf.__class__.__name__, accuracy_score(y_test, y_pred))"
   ]
  },
  {
   "cell_type": "markdown",
   "id": "70334dfb-3647-45e8-8407-3128559f3637",
   "metadata": {},
   "source": [
    "# Bagging"
   ]
  },
  {
   "cell_type": "code",
   "execution_count": null,
   "id": "807e5105-e803-4db7-98c7-04997312197d",
   "metadata": {},
   "outputs": [],
   "source": [
    "from sklearn.ensemble import BaggingClassifier\n",
    "from sklearn.tree import DecisionTreeClassifier\n",
    "\n",
    "bag_clf = BaggingClassifier(\n",
    "    DecisionTreeClassifier(), n_estimators=500,\n",
    "    max_samples=100, bootstrap=True, n_jobs=-1)\n",
    "bag_clf.fit(x_train, y_train)\n",
    "y_pred = bag_clf.predict(x_test)\n",
    "print(bag_clf.__class__.__name__, accuracy_score(y_test, y_pred))"
   ]
  },
  {
   "cell_type": "code",
   "execution_count": null,
   "id": "cea88af9-9d6e-4038-8938-b613c968f6fe",
   "metadata": {},
   "outputs": [],
   "source": [
    "# plot the decision boundary with the data\n",
    "\n",
    "DecisionBoundaryDisplay.from_estimator(tree_clf, \n",
    "                                       x, \n",
    "                                       response_method=\"predict\",\n",
    "                                       cmap=\"RdBu\", \n",
    "                                       alpha=0.5\n",
    ")\n",
    "\n",
    "sns.scatterplot(x=x[:,0], \n",
    "                y=x[:,1],\n",
    "                hue=y,\n",
    "                palette=['red','green'])\n",
    "\n",
    "plt.legend(bbox_to_anchor=(1.05, 1), loc='upper left')"
   ]
  },
  {
   "cell_type": "code",
   "execution_count": null,
   "id": "7356430d-14f3-4a4c-93c7-0a0fdaf6c03d",
   "metadata": {},
   "outputs": [],
   "source": [
    "# plot the decision boundary with the data\n",
    "\n",
    "DecisionBoundaryDisplay.from_estimator(bag_clf, \n",
    "                                       x, \n",
    "                                       response_method=\"predict\",\n",
    "                                       cmap=\"RdBu\", \n",
    "                                       alpha=0.5\n",
    ")\n",
    "\n",
    "sns.scatterplot(x=x[:,0], \n",
    "                y=x[:,1],\n",
    "                hue=y,\n",
    "                palette=['red','green'])\n",
    "\n",
    "plt.legend(bbox_to_anchor=(1.05, 1), loc='upper left')"
   ]
  },
  {
   "cell_type": "code",
   "execution_count": null,
   "id": "c93f6922-fd67-4440-a1b7-e16644e214e4",
   "metadata": {},
   "outputs": [],
   "source": [
    "bag_clf = BaggingClassifier(\n",
    "    DecisionTreeClassifier(), n_estimators=500,\n",
    "    bootstrap=True, n_jobs=-1, oob_score=True)\n",
    "\n",
    "bag_clf.fit(x_train, y_train)\n",
    "bag_clf.oob_score_"
   ]
  },
  {
   "cell_type": "code",
   "execution_count": null,
   "id": "544b61e5-4768-47b2-a20e-2d64454221ed",
   "metadata": {},
   "outputs": [],
   "source": [
    "y_pred = bag_clf.predict(x_test)\n",
    "accuracy_score(y_test, y_pred)"
   ]
  },
  {
   "cell_type": "markdown",
   "id": "44aa6c1a-894e-46ad-b1cf-b62afd861ad2",
   "metadata": {},
   "source": [
    "## Random Forest"
   ]
  },
  {
   "cell_type": "code",
   "execution_count": null,
   "id": "9c5e603e-76ee-4628-bd94-8cc73fa658dd",
   "metadata": {},
   "outputs": [],
   "source": [
    "from sklearn.ensemble import RandomForestClassifier"
   ]
  },
  {
   "cell_type": "code",
   "execution_count": null,
   "id": "61f65af5-345c-4e8c-adfa-b07aa66182f4",
   "metadata": {},
   "outputs": [],
   "source": [
    "rnd_clf = RandomForestClassifier(n_estimators=500, \n",
    "                                 max_leaf_nodes=16, \n",
    "                                 n_jobs=-1,\n",
    "                                 random_state=42)\n",
    "rnd_clf.fit(x_train, y_train)\n",
    "\n",
    "y_pred_rf = rnd_clf.predict(x_test)\n",
    "accuracy_score(y_test, y_pred_rf)"
   ]
  },
  {
   "cell_type": "code",
   "execution_count": null,
   "id": "562f49e4-f81b-4e6e-baa1-acc7c3fdb52f",
   "metadata": {},
   "outputs": [],
   "source": [
    "# equivalent bagging classifier\n",
    "\n",
    "bag_clf = BaggingClassifier(\n",
    "    DecisionTreeClassifier(max_leaf_nodes=16),\n",
    "    n_estimators=500, max_samples=1.0, bootstrap=True, n_jobs=-1,\n",
    "    random_state=42)"
   ]
  },
  {
   "cell_type": "code",
   "execution_count": null,
   "id": "476f6b00-f517-4178-8f5c-bd32b6cfd0a7",
   "metadata": {},
   "outputs": [],
   "source": [
    "bag_clf.fit(x_train, y_train)\n",
    "y_pred_rf = bag_clf.predict(x_test)\n",
    "accuracy_score(y_test, y_pred_rf)"
   ]
  },
  {
   "cell_type": "code",
   "execution_count": null,
   "id": "aa6a288b-4baf-4cd4-a203-00b9eaff90e4",
   "metadata": {},
   "outputs": [],
   "source": [
    "classifiers = [knn_clf, logreg_clf, tree_clf, voting_clf, votingsoft_clf, rnd_clf]"
   ]
  },
  {
   "cell_type": "code",
   "execution_count": null,
   "id": "5f6d210b-daff-4c6f-9418-075d9627e50a",
   "metadata": {},
   "outputs": [],
   "source": [
    "for clf in classifiers:\n",
    "    clf.fit(x_train, y_train)\n",
    "    y_pred = clf.predict(x_test)\n",
    "    print(clf.__class__.__name__, accuracy_score(y_test, y_pred))"
   ]
  },
  {
   "cell_type": "code",
   "execution_count": null,
   "id": "8c53ea09-4dfc-4dd0-a072-c82287eb1255",
   "metadata": {},
   "outputs": [],
   "source": [
    "# plot the decision boundary with the data\n",
    "\n",
    "DecisionBoundaryDisplay.from_estimator(rnd_clf, \n",
    "                                       x, \n",
    "                                       response_method=\"predict\",\n",
    "                                       cmap=\"RdBu\", \n",
    "                                       alpha=0.5\n",
    ")\n",
    "\n",
    "sns.scatterplot(x=x[:,0], \n",
    "                y=x[:,1],\n",
    "                hue=y,\n",
    "                palette=['red','green'])\n",
    "\n",
    "plt.legend(bbox_to_anchor=(1.05, 1), loc='upper left')"
   ]
  },
  {
   "cell_type": "markdown",
   "id": "2ef0e427-2095-4822-80be-8170c838ad98",
   "metadata": {},
   "source": [
    "## This also works for our regression example"
   ]
  },
  {
   "cell_type": "code",
   "execution_count": null,
   "id": "16217e95-0519-49b7-b536-6460e45cb9a2",
   "metadata": {},
   "outputs": [],
   "source": [
    "x = np.linspace(0,10,100)"
   ]
  },
  {
   "cell_type": "code",
   "execution_count": null,
   "id": "e95a0c8b-8fb6-4dbe-8d38-8ee55f4109b0",
   "metadata": {},
   "outputs": [],
   "source": [
    "np.random.seed(42)\n",
    "noise = np.random.normal(0,1.5,100)\n",
    "\n",
    "y = x + noise #0.3*(x-5)**3 + noise"
   ]
  },
  {
   "cell_type": "code",
   "execution_count": null,
   "id": "3b24f10a-5992-4b0c-ad48-b40f9a048a6e",
   "metadata": {},
   "outputs": [],
   "source": [
    "plt.plot(x,y,'ko')"
   ]
  },
  {
   "cell_type": "markdown",
   "id": "45f7a9ce-bcc2-4068-a357-02f5d42f10dc",
   "metadata": {},
   "source": [
    "## Straight-forward linear regression"
   ]
  },
  {
   "cell_type": "code",
   "execution_count": null,
   "id": "a046fe35-43d6-40c4-accf-2cd90d991cdc",
   "metadata": {},
   "outputs": [],
   "source": [
    "x_train, x_test, y_train, y_test = sklearn.model_selection.train_test_split(x.reshape(-1,1), y, random_state=42)"
   ]
  },
  {
   "cell_type": "code",
   "execution_count": null,
   "id": "4cc008c9-8411-4280-b5c2-305aafc399e2",
   "metadata": {},
   "outputs": [],
   "source": [
    "lin_reg = sklearn.linear_model.LinearRegression()\n",
    "lin_reg.fit(x_train,y_train)\n",
    "print('R2 score: ',lin_reg.score(x_test, y_test))"
   ]
  },
  {
   "cell_type": "code",
   "execution_count": null,
   "id": "aa2ebc69-b32a-48f6-bede-43c7cae2dbaf",
   "metadata": {},
   "outputs": [],
   "source": [
    "plt.plot(x_train,y_train,'ko')\n",
    "plt.plot(x_test,y_test,'bo')\n",
    "plt.plot([0,10],lin_reg.predict([[0],[10]]))"
   ]
  },
  {
   "cell_type": "markdown",
   "id": "85cecd3c-08da-4de5-b370-25cbb0ac620d",
   "metadata": {},
   "source": [
    "## Decision Tree"
   ]
  },
  {
   "cell_type": "code",
   "execution_count": null,
   "id": "b36ef50a-8256-4358-b99e-5c7e73fdfa35",
   "metadata": {},
   "outputs": [],
   "source": [
    "tree_reg = sklearn.tree.DecisionTreeRegressor()\n",
    "tree_reg.fit(x_train,y_train)\n",
    "print('R2 score: ',tree_reg.score(x_test, y_test))"
   ]
  },
  {
   "cell_type": "code",
   "execution_count": null,
   "id": "a8702288-9065-4c0c-bbb7-4bcf4dd33857",
   "metadata": {},
   "outputs": [],
   "source": [
    "plt.plot(x_train,y_train,'ko')\n",
    "plt.plot(x_test,y_test,'bo')\n",
    "xnew=np.linspace(0,10,1000).reshape(-1,1)\n",
    "ynew=tree_reg.predict(xnew)\n",
    "plt.plot(xnew,ynew)"
   ]
  },
  {
   "cell_type": "markdown",
   "id": "98098548-0ff0-499a-86f8-9009d01bf6d5",
   "metadata": {},
   "source": [
    "## Random Forest"
   ]
  },
  {
   "cell_type": "code",
   "execution_count": null,
   "id": "e1d6bb94-06b8-4f85-9cb4-002c42ee9678",
   "metadata": {},
   "outputs": [],
   "source": [
    "rf_reg = sklearn.ensemble.RandomForestRegressor(n_jobs=-1,\n",
    "                                                random_state=42)\n",
    "rf_reg.fit(x_train,y_train)\n",
    "print('R2 score: ',rf_reg.score(x_test, y_test))"
   ]
  },
  {
   "cell_type": "code",
   "execution_count": null,
   "id": "6688c39b-60c5-4323-99c7-cb36cb487b17",
   "metadata": {},
   "outputs": [],
   "source": [
    "plt.plot(x_train,y_train,'ko')\n",
    "plt.plot(x_test,y_test,'bo')\n",
    "xnew=np.linspace(0,10,1000).reshape(-1,1)\n",
    "ynew=rf_reg.predict(xnew)\n",
    "plt.plot(xnew,ynew)"
   ]
  },
  {
   "cell_type": "code",
   "execution_count": null,
   "id": "798ba2f2-ea21-4c16-902c-08058570db8e",
   "metadata": {},
   "outputs": [],
   "source": [
    "rf_reg = sklearn.ensemble.RandomForestRegressor(max_depth=3,\n",
    "                                                n_jobs=-1,\n",
    "                                                random_state=42)\n",
    "rf_reg.fit(x_train,y_train)\n",
    "print('R2 score: ',rf_reg.score(x_test, y_test))"
   ]
  },
  {
   "cell_type": "code",
   "execution_count": null,
   "id": "a7a6bb95-4ab7-4143-acd4-d84b02284f08",
   "metadata": {},
   "outputs": [],
   "source": [
    "plt.plot(x_train,y_train,'ko')\n",
    "plt.plot(x_test,y_test,'bo')\n",
    "xnew=np.linspace(0,10,1000).reshape(-1,1)\n",
    "ynew=rf_reg.predict(xnew)\n",
    "plt.plot(xnew,ynew)"
   ]
  }
 ],
 "metadata": {
  "kernelspec": {
   "display_name": "Python 3 (ipykernel)",
   "language": "python",
   "name": "python3"
  },
  "language_info": {
   "codemirror_mode": {
    "name": "ipython",
    "version": 3
   },
   "file_extension": ".py",
   "mimetype": "text/x-python",
   "name": "python",
   "nbconvert_exporter": "python",
   "pygments_lexer": "ipython3",
   "version": "3.10.6"
  }
 },
 "nbformat": 4,
 "nbformat_minor": 5
}
